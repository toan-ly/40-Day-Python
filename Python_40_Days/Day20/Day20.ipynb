{
  "cells": [
    {
      "cell_type": "code",
      "execution_count": 21,
      "metadata": {},
      "outputs": [
        {
          "name": "stdout",
          "output_type": "stream",
          "text": [
            "Ngày 13/3, Cognition Labs, startup về công nghệ trí tuệ nhân tạo tại Mỹ, công bố kỹ sư phát triển phần mềm AI đầu tiên trên thế giới.\n",
            "Với Devin, các kỹ sư có thể tập trung vào những vấn đề thú vị hơn, các đội kỹ thuật có thể nỗ lực cho những mục tiêu tham vọng hơn\", Cognition cho biết.\n",
            "Giới thiệu về Devin - kỹ sư lập trình AI đầu tiên thế giới Đồng sáng lập Scott Wu giới thiệu về khả năng lập trình của Devin.\n",
            "Nhà phát triển cho biết sản phẩm này chỉ là bước đầu trong việc phát triển các kỹ sư AI của mình.\n",
            "Theo ông, con người đang ở giai đoạn đầu của cuộc cách mạng AI và lập trình không còn là kỹ năng quan trọng nữa.\n"
          ]
        }
      ],
      "source": [
        "from newspaper import Article\n",
        "import nltk\n",
        "from nltk.tokenize import word_tokenize\n",
        "\n",
        "article_url = 'https://vnexpress.net/ky-su-phan-mem-ai-dau-tien-tren-the-gioi-4722040.html'\n",
        "article = Article(article_url)\n",
        "article.download()\n",
        "article.parse()\n",
        "article.nlp()\n",
        "print(article.summary)"
      ]
    },
    {
      "cell_type": "code",
      "execution_count": 19,
      "metadata": {},
      "outputs": [
        {
          "name": "stderr",
          "output_type": "stream",
          "text": [
            "[nltk_data] Downloading package averaged_perceptron_tagger to\n",
            "[nltk_data]     /Users/toanne/nltk_data...\n",
            "[nltk_data]   Package averaged_perceptron_tagger is already up-to-\n",
            "[nltk_data]       date!\n"
          ]
        },
        {
          "data": {
            "text/plain": [
              "True"
            ]
          },
          "execution_count": 19,
          "metadata": {},
          "output_type": "execute_result"
        }
      ],
      "source": [
        "# nltk.download('punkt')\n",
        "nltk.download('averaged_perceptron_tagger')"
      ]
    },
    {
      "cell_type": "code",
      "execution_count": 20,
      "metadata": {},
      "outputs": [
        {
          "name": "stdout",
          "output_type": "stream",
          "text": [
            "[('Kỹ', 'NNP'), ('sư', 'NN'), ('phần', 'NN'), ('mềm', 'NN'), ('được', 'NNP'), ('tạo', 'NN'), ('từ', 'NN'), ('AI', 'NNP'), ('với', 'NN'), ('tên', 'NN'), ('Devin', 'NNP'), ('có', 'NN'), ('thể', 'NN'), ('tự', 'NN'), ('lập', 'NN'), ('trình', 'NN'), (',', ','), ('hoạt', 'NN'), ('động', 'NNP'), ('độc', 'NNP'), ('lập', 'VBZ'), ('khi', 'FW'), ('được', 'NNP'), ('giao', 'NN'), ('nhiệm', 'NN'), ('vụ', 'NN'), (',', ','), ('giúp', 'NN'), ('kỹ', 'NN'), ('sư', 'NN'), ('con', 'NN'), ('người', 'JJ'), ('giảm', 'NN'), ('bớt', 'NN'), ('thời', 'NN'), ('gian', 'JJ'), ('làm', 'NN'), ('việc', 'NN'), ('.', '.'), ('Ngày', 'CC'), ('13/3', 'CD'), (',', ','), ('Cognition', 'NNP'), ('Labs', 'NNP'), (',', ','), ('startup', 'NN'), ('về', 'NN'), ('công', 'NN'), ('nghệ', 'JJ'), ('trí', 'NN'), ('tuệ', 'NN'), ('nhân', 'JJ'), ('tạo', 'NN'), ('tại', 'NN'), ('Mỹ', 'NNP'), (',', ','), ('công', 'NN'), ('bố', 'NN'), ('kỹ', 'NN'), ('sư', 'NN'), ('phát', 'NN'), ('triển', 'NN'), ('phần', 'NN'), ('mềm', 'NN'), ('AI', 'NNP'), ('đầu', 'NNP'), ('tiên', 'NN'), ('trên', 'NN'), ('thế', 'NN'), ('giới', 'NN'), ('.', '.'), ('``', '``'), ('Devin', 'NNP'), ('là', 'NN'), ('một', 'NN'), ('đồng', 'NNP'), ('đội', 'NNP'), ('tài', 'NN'), ('năng', 'NN'), ('và', 'NN'), ('không', 'NN'), ('biết', 'NN'), ('mệt', 'NN'), (',', ','), ('sẵn', 'JJ'), ('sàng', 'NN'), ('làm', 'NN'), ('cùng', 'NN'), ('bạn', 'NN'), ('hoặc', 'NN'), ('tự', 'NN'), ('hoàn', 'NN'), ('thành', 'NN'), ('nhiệm', 'JJ'), ('vụ', 'NN'), ('để', 'NNP'), ('bạn', 'NN'), ('đánh', 'NNP'), ('giá', 'NN'), ('.', '.'), ('Với', 'NNP'), ('Devin', 'NNP'), (',', ','), ('các', 'NN'), ('kỹ', 'NN'), ('sư', 'NN'), ('có', 'NN'), ('thể', 'NN'), ('tập', 'NN'), ('trung', 'NN'), ('vào', 'NN'), ('những', 'JJ'), ('vấn', 'NN'), ('đề', 'NNP'), ('thú', 'NN'), ('vị', 'NN'), ('hơn', 'NN'), (',', ','), ('các', 'NN'), ('đội', 'NNP'), ('kỹ', 'NNP'), ('thuật', 'NN'), ('có', 'NN'), ('thể', 'NN'), ('nỗ', 'JJ'), ('lực', 'NN'), ('cho', 'NN'), ('những', 'JJ'), ('mục', 'NN'), ('tiêu', 'NN'), ('tham', 'NN'), ('vọng', 'NN'), ('hơn', 'NN'), (\"''\", \"''\"), (',', ','), ('Cognition', 'NNP'), ('cho', 'NN'), ('biết', 'NN'), ('.', '.'), ('Minh', 'NNP'), ('họa', 'NN'), ('về', 'NN'), ('robot', 'NN'), ('lập', 'NN'), ('trình', 'NN'), ('do', 'VBP'), ('ChatGPT', 'NNP'), ('tạo', 'VB'), ('ra', 'NN'), ('.', '.'), ('Đây', 'CC'), ('là', 'JJ'), ('sản', 'NN'), ('phẩm', 'NN'), ('của', 'NN'), ('một', 'NN'), ('nhóm', 'JJ'), ('kỹ', 'NN'), ('sư', 'NN'), ('đang', 'NNP'), ('làm', 'NN'), ('việc', 'NN'), ('tại', 'NN'), ('nhiều', 'JJ'), ('công', 'NN'), ('ty', 'NN'), ('lớn', 'NN'), ('như', 'JJ'), ('Google', 'NNP'), ('DeepMind', 'NNP'), (',', ','), ('Waymo', 'NNP'), (',', ','), ('Scale', 'NNP'), ('AI', 'NNP'), (',', ','), ('được', 'NNP'), ('dẫn', 'VBZ'), ('dắt', 'JJ'), ('bởi', 'NN'), ('các', 'NN'), ('kỹ', 'NN'), ('sư', 'NN'), ('gồm', 'NN'), ('Scott', 'NNP'), ('Wu', 'NNP'), (',', ','), ('Steven', 'NNP'), ('Hao', 'NNP'), ('và', 'FW'), ('Walden', 'NNP'), ('Yan', 'NNP'), ('.', '.'), ('Dù', 'NNP'), ('hoạt', 'NN'), ('động', 'NNP'), ('một', 'NN'), ('thời', 'NN'), ('gian', 'NN'), (',', ','), ('Cognition', 'NNP'), ('Labs', 'NNP'), ('mới', 'NN'), ('thực', 'NN'), ('sự', 'NN'), ('được', 'NNP'), ('thành', 'NN'), ('lập', 'NN'), ('vào', 'NN'), ('đầu', 'NNP'), ('năm', 'CC'), ('nay', 'JJ'), ('và', 'NN'), ('gọi', 'NN'), ('vốn', 'NN'), ('được', 'VBD'), ('21', 'CD'), ('triệu', 'NN'), ('USD', 'NNP'), ('.', '.'), ('Trong', 'NNP'), ('phần', 'JJ'), ('giới', 'NN'), ('thiệu', 'NN'), (',', ','), ('họ', 'NN'), ('mô', 'NN'), ('tả', 'NN'), ('mình', 'NN'), ('là', 'NN'), ('một', 'NN'), ('``', '``'), ('nhóm', 'JJ'), ('nhỏ', 'NN'), ('nhưng', 'NN'), ('nhiều', 'JJ'), ('tài', 'NN'), ('năng', 'NN'), (\"''\", \"''\"), (',', ','), ('với', 'FW'), ('những', 'FW'), ('người', 'FW'), ('sáng', 'FW'), ('lập', 'FW'), ('từng', 'NN'), ('giành', 'NN'), ('được', 'VBD'), ('10', 'CD'), ('huy', 'NN'), ('chương', 'NN'), ('vàng', 'NN'), ('Olympic', 'NNP'), ('Tin', 'NNP'), ('học', 'NN'), ('quốc', 'NN'), ('tế', 'NN'), ('.', '.'), ('Trước', 'NNP'), ('Devin', 'NNP'), (',', ','), ('thế', 'NN'), ('giới', 'NN'), ('cũng', 'NN'), ('có', 'NN'), ('những', 'JJ'), ('trợ', 'NN'), ('lý', 'NN'), ('AI', 'NNP'), ('hỗ', 'NN'), ('trợ', 'NN'), ('lập', 'NN'), ('trình', 'NN'), ('như', 'JJ'), ('Github', 'NNP'), ('Copilot', 'NNP'), ('hoặc', 'NN'), ('các', 'NN'), ('chatbot', 'NN'), ('ChatGPT', 'NNP'), (',', ','), ('Google', 'NNP'), ('Bard', 'NNP'), ('.', '.'), ('Tuy', 'NNP'), ('nhiên', 'NN'), (',', ','), ('Devin', 'NNP'), ('khác', 'NNP'), ('biệt', 'NN'), ('vì', 'NN'), ('có', 'NN'), ('thể', 'NN'), ('xử', 'NNP'), ('lý', 'VBZ'), ('toàn', 'JJ'), ('bộ', 'NN'), ('quá', 'NN'), ('trình', 'NN'), ('phát', 'NN'), ('triển', 'NN'), ('từ', 'NN'), ('đầu', 'NNP'), ('đến', 'NNP'), ('cuối', 'NN'), ('.', '.'), ('Trong', 'NNP'), ('video', 'NN'), ('giới', 'NN'), ('thiệu', 'NN'), (',', ','), ('Scott', 'NNP'), ('Wu', 'NNP'), (',', ','), ('CEO', 'NNP'), ('của', 'VBZ'), ('Cognition', 'NNP'), ('Labs', 'NNP'), (',', ','), ('đã', 'NNP'), ('mô', 'NNP'), ('tả', 'NN'), ('cách', 'NN'), ('người', 'JJ'), ('dùng', 'NN'), ('Devin', 'NNP'), ('có', 'NN'), ('thể', 'NN'), ('viết', 'NN'), ('code', 'NN'), ('ban', 'NN'), ('đầu', 'NNP'), (',', ','), ('theo', 'NN'), ('dõi', 'NN'), ('dòng', 'NN'), ('lệnh', 'NN'), (',', ','), ('kiểm', 'VB'), ('tra', 'JJ'), ('và', 'NN'), ('sửa', 'NN'), ('lỗi', 'NN'), (',', ','), ('thậm', 'JJ'), ('chí', 'NN'), ('quản', 'NN'), ('lý', 'NN'), ('những', 'JJ'), ('dự', 'NN'), ('án', 'NNP'), ('trên', 'NN'), ('nền', 'NN'), ('tảng', 'NN'), ('như', 'JJ'), ('Upwork', 'NNP'), ('.', '.'), ('Devin', 'NNP'), ('có', 'NN'), ('thể', 'NN'), ('tìm', 'NN'), ('kiếm', 'NN'), ('trên', 'JJ'), ('Internet', 'NNP'), ('để', 'NNP'), ('học', 'NN'), ('cách', 'NN'), ('hoàn', 'NN'), ('thành', 'NN'), ('nhiệm', 'JJ'), ('vụ', 'NN'), ('.', '.'), ('Nhờ', 'NNP'), ('đó', 'NNP'), (',', ','), ('các', 'NN'), ('kỹ', 'NN'), ('sư', 'NN'), ('sẽ', 'NN'), ('có', 'NN'), ('trong', 'JJ'), ('tay', 'NN'), ('một', 'NN'), ('nhân', 'JJ'), ('viên', 'NN'), ('AI', 'NNP'), ('đầy', 'NNP'), ('đủ', 'NNP'), ('năng', 'MD'), ('lực', 'VB'), ('để', 'NNP'), ('tham', 'NNP'), ('gia', 'NN'), ('dự', 'NN'), ('án', 'NNP'), ('thay', 'NN'), ('vì', 'NN'), ('một', 'NN'), ('trợ', 'NN'), ('lý', 'NN'), ('chỉ', 'NN'), ('có', 'NN'), ('thể', 'NN'), ('gợi', 'NN'), ('ý', 'NNP'), ('những', 'CC'), ('đoạn', 'NNP'), ('code', 'NN'), ('.', '.'), ('Giới', 'NNP'), ('thiệu', 'JJ'), ('về', 'NN'), ('Devin', 'NNP'), ('-', ':'), ('kỹ', 'NN'), ('sư', 'NN'), ('lập', 'NN'), ('trình', 'NN'), ('AI', 'NNP'), ('đầu', 'NNP'), ('tiên', 'NN'), ('thế', 'NN'), ('giới', 'NN'), ('Đồng', 'NNP'), ('sáng', 'NN'), ('lập', 'NN'), ('Scott', 'NNP'), ('Wu', 'NNP'), ('giới', 'NN'), ('thiệu', 'NN'), ('về', 'NN'), ('khả', 'NN'), ('năng', 'JJ'), ('lập', 'NN'), ('trình', 'NN'), ('của', 'NN'), ('Devin', 'NNP'), ('.', '.'), ('Video', 'NN'), (':', ':'), ('cognition-labs', 'JJ'), ('Để', 'NNP'), ('sử', 'NN'), ('dụng', 'NN'), (',', ','), ('người', 'JJ'), ('dùng', 'NN'), ('nhập', 'NN'), ('câu', 'NN'), ('lệnh', 'NN'), ('bằng', 'NN'), ('ngôn', 'JJ'), ('ngữ', 'JJ'), ('tự', 'NN'), ('nhiên', 'NN'), ('vào', 'NN'), ('giao', 'NN'), ('diện', 'NN'), ('kiểu', 'NN'), ('chatbot', 'NN'), ('của', 'NN'), ('Devin', 'NNP'), ('và', 'NN'), ('kỹ', 'NN'), ('sư', 'NN'), ('AI', 'NNP'), ('này', 'CC'), ('sẽ', 'JJ'), ('xử', 'NNP'), ('lý', 'NN'), ('tiếp', 'NN'), ('.', '.'), ('Nó', 'NNP'), ('sẽ', 'VBD'), ('lên', 'JJ'), ('kế', 'NN'), ('hoạch', 'NN'), ('chi', 'NN'), ('tiết', 'NN'), ('để', 'NNP'), ('giải', 'NN'), ('quyết', 'NN'), ('vấn', 'NN'), ('đề', 'NNP'), ('theo', 'NN'), ('từng', 'NN'), ('bước', 'NN'), ('.', '.'), ('Tiếp', 'NNP'), ('theo', 'NN'), (',', ','), ('Devin', 'NNP'), ('sẽ', 'NN'), ('khởi', 'NN'), ('động', 'NNP'), ('dự', 'NN'), ('án', 'NNP'), ('bằng', 'NN'), ('cách', 'NN'), ('sử', 'NN'), ('dụng', 'NN'), ('những', 'JJ'), ('công', 'NN'), ('cụ', 'NN'), ('dành', 'NN'), ('cho', 'NN'), ('nhà', 'JJ'), ('phát', 'NN'), ('triển', 'NN'), ('.', '.'), ('Nó', 'NNP'), ('sẽ', 'VBD'), ('viết', 'JJ'), ('code', 'NN'), (',', ','), ('khắc', 'VB'), ('phục', 'NN'), ('lỗi', 'NN'), (',', ','), ('kiểm', 'VB'), ('tra', 'JJ'), ('và', 'NN'), ('báo', 'NN'), ('cáo', 'NN'), ('tiến', 'NN'), ('trình', 'NN'), ('theo', 'NN'), ('thời', 'NN'), ('gian', 'JJ'), ('thực', 'NN'), (',', ','), ('cho', 'JJ'), ('phép', 'NN'), ('người', 'NN'), ('dùng', 'NN'), ('theo', 'NN'), ('dõi', 'NN'), ('mọi', 'NN'), ('thứ', 'NN'), ('và', 'NN'), ('đề', 'NNP'), ('phòng', 'NN'), ('những', 'NN'), ('điều', 'NNP'), ('ngoài', 'CC'), ('ý', 'NNP'), ('muốn', 'NN'), ('.', '.'), ('Nếu', 'NNP'), ('thấy', 'JJ'), ('sai', 'NN'), ('sót', 'NN'), (',', ','), ('người', 'JJ'), ('dùng', 'NN'), ('có', 'NN'), ('thể', 'NN'), ('vào', 'NN'), ('giao', 'NN'), ('diện', 'NN'), ('chat', 'WP'), ('và', 'VBZ'), ('ra', 'NN'), ('lệnh', 'NN'), ('cho', 'NN'), ('AI', 'NNP'), ('thực', 'NN'), ('hiện', 'NN'), ('thay', 'NN'), ('đổi', 'NNP'), ('.', '.'), ('Điều', 'VB'), ('này', 'JJ'), ('giúp', 'NN'), ('các', 'NN'), ('đội', 'NNP'), ('kỹ', 'NNP'), ('thuật', 'NN'), ('giao', 'NN'), ('một', 'NN'), ('số', 'NN'), ('nhiệm', 'JJ'), ('vụ', 'NN'), ('của', 'NN'), ('mình', 'NN'), ('cho', 'NN'), ('AI', 'NNP'), ('và', 'NN'), ('tập', 'NN'), ('trung', 'NN'), ('vào', 'NN'), ('các', 'NN'), ('dự', 'NN'), ('án', 'NNP'), ('sáng', 'NN'), ('tạo', 'NN'), ('hơn', 'NN'), (',', ','), ('đòi', 'NNP'), ('hỏi', 'VBZ'), ('trí', 'JJ'), ('thông', 'NN'), ('minh', 'NN'), ('của', 'NN'), ('con', 'NN'), ('người', 'NN'), ('.', '.'), ('Trong', 'NNP'), ('thử', 'JJ'), ('nghiệm', 'NN'), ('của', 'NN'), ('Bloomberg', 'NNP'), (',', ','), ('Devin', 'NNP'), ('có', 'NN'), ('thể', 'NN'), ('lập', 'NN'), ('trình', 'NN'), ('trò', 'NN'), ('chơi', 'NN'), ('Pong', 'NNP'), ('cơ', 'NN'), ('bản', 'NN'), ('và', 'NN'), ('tạo', 'NN'), ('một', 'NN'), ('trang', 'NN'), ('web', 'NN'), ('trong', 'JJ'), ('chưa', 'NN'), ('đầy', 'VBD'), ('20', 'CD'), ('phút', 'NN'), ('.', '.'), ('Theo', 'NNP'), ('công', 'NN'), ('bố', 'NN'), ('của', 'NN'), ('nhà', 'JJ'), ('phát', 'NN'), ('triển', 'NN'), (',', ','), ('khi', 'VB'), ('đánh', 'NNP'), ('giá', 'NN'), ('dựa', 'NN'), ('trên', 'NN'), ('tiêu', 'NN'), ('chuẩn', 'VBD'), ('SWE-Bench', 'JJ'), ('về', 'NN'), ('việc', 'NN'), ('giải', 'NN'), ('quyết', 'NN'), ('các', 'NN'), ('vấn', 'NN'), ('đề', 'NNP'), ('trên', 'NN'), ('GitHub', 'NNP'), (',', ','), ('Devin', 'NNP'), ('giải', 'NN'), ('quyết', 'NN'), ('chính', 'NN'), ('xác', 'VBD'), ('13,86', 'CD'), ('%', 'NN'), ('các', 'NN'), ('vấn', 'NN'), ('mà', 'NN'), ('không', 'NN'), ('cần', 'NN'), ('hỗ', 'NN'), ('trợ', 'NN'), ('.', '.'), ('Trong', 'NNP'), ('khi', 'VBD'), ('với', 'JJ'), ('mô', 'NN'), ('hình', 'NN'), ('trước', 'NN'), ('đó', 'NNP'), (',', ','), ('hiệu', 'NN'), ('suất', 'NN'), ('chỉ', 'NN'), ('đạt', 'VBD'), ('1,96', 'CD'), ('%', 'NN'), ('và', 'NN'), ('cao', 'NN'), ('nhất', 'JJ'), ('là', 'RB'), ('4,80', 'CD'), ('%', 'NN'), ('nếu', 'JJ'), ('được', 'NNP'), ('hỗ', 'NN'), ('trợ', 'NN'), ('.', '.'), ('Hiệu', 'NNP'), ('suất', 'VBD'), ('giải', 'JJ'), ('quyết', 'NN'), ('các', 'NN'), ('vấn', 'NN'), ('đề', 'NNP'), ('về', 'NN'), ('lập', 'NN'), ('trình', 'NN'), ('của', 'NN'), ('Devin', 'NNP'), ('so', 'RB'), ('với', 'JJ'), ('các', 'NN'), ('mô', 'NN'), ('hình', 'NN'), ('AI', 'NNP'), ('khác', 'NN'), ('.', '.'), ('Ảnh', 'NN'), (':', ':'), ('cognition-labs', 'JJ'), ('Tuy', 'NNP'), ('nhiên', 'NN'), (',', ','), ('hiện', 'NN'), ('Devin', 'NNP'), ('chưa', 'NN'), ('được', 'NNP'), ('cung', 'NN'), ('cấp', 'NN'), ('rộng', 'NN'), ('rãi', 'NN'), ('mà', 'NN'), ('chỉ', 'NN'), ('dành', 'NN'), ('cho', 'NN'), ('một', 'NN'), ('số', 'NN'), ('người', 'JJ'), ('dùng', 'NN'), ('đã', 'NNP'), ('đăng', 'NNP'), ('ký', 'NNP'), ('trước', 'NN'), ('và', 'NN'), ('được', 'NNP'), ('chọn', 'NN'), ('.', '.'), ('Nhà', 'NNP'), ('phát', 'NN'), ('triển', 'NN'), ('cho', 'NN'), ('biết', 'NN'), ('sản', 'NN'), ('phẩm', 'NN'), ('này', 'JJ'), ('chỉ', 'NN'), ('là', 'NN'), ('bước', 'NN'), ('đầu', 'NNP'), ('trong', 'RB'), ('việc', 'RB'), ('phát', 'JJ'), ('triển', 'NN'), ('các', 'NN'), ('kỹ', 'NN'), ('sư', 'NN'), ('AI', 'NNP'), ('của', 'NN'), ('mình', 'NN'), ('.', '.'), ('``', '``'), ('Chúng', 'NNP'), ('tôi', 'NN'), ('đang', 'NNP'), ('phát', 'NN'), ('triển', 'NN'), ('những', 'JJ'), ('đồng', 'NNP'), ('đội', 'NNP'), ('AI', 'NNP'), ('với', 'NN'), ('khả', 'NN'), ('năng', 'JJ'), ('vượt', 'NN'), ('xa', 'NNP'), ('công', 'NN'), ('cụ', 'NN'), ('AI', 'NNP'), ('hiện', 'NN'), ('nay', 'NN'), ('.', '.'), ('Bằng', 'NNP'), ('cách', 'NN'), ('giải', 'NN'), ('quyết', 'NN'), ('vấn', 'NN'), ('đề', 'NNP'), ('lý', 'NN'), ('luận', 'NN'), (',', ','), ('chúng', 'NN'), ('tôi', 'NN'), ('có', 'NN'), ('thể', 'NN'), ('mở', 'NN'), ('ra', 'NN'), ('những', 'JJ'), ('khả', 'NN'), ('năng', 'NN'), ('mới', 'NN'), ('trong', 'JJ'), ('nhiều', 'JJ'), ('lĩnh', 'NN'), ('vực', 'SYM'), ('-', ':'), ('code', 'NN'), ('chỉ', 'NN'), ('là', 'NN'), ('bước', 'NN'), ('khởi', 'NN'), ('đầu', 'NNP'), ('.', '.'), ('Chúng', 'NNP'), ('tôi', 'JJ'), ('muốn', 'NN'), ('giúp', 'NN'), ('mọi', 'NN'), ('người', 'JJ'), ('trên', 'NN'), ('thế', 'NN'), ('giới', 'NN'), ('biến', 'NN'), ('ý', 'NNP'), ('tưởng', 'NN'), ('của', 'NN'), ('họ', 'NN'), ('thành', 'NN'), ('hiện', 'NN'), ('thực', 'NN'), (\"''\", \"''\"), (',', ','), ('Cognition', 'NNP'), ('giải', 'NN'), ('thích', 'NN'), ('.', '.'), ('Sản', 'NNP'), ('phẩm', 'NN'), ('của', 'NN'), ('Cogniton', 'NNP'), ('Labs', 'NNP'), ('được', 'NNP'), ('đánh', 'NNP'), ('giá', 'NN'), ('là', 'NN'), ('minh', 'NN'), ('họa', 'NN'), ('rõ', 'NN'), ('nhất', 'JJ'), ('cho', 'NN'), ('nhận', 'NN'), ('định', 'NNP'), ('trước', 'NN'), ('đó', 'NNP'), ('của', 'NN'), ('nhà', 'NN'), ('sáng', 'NN'), ('lập', 'JJ'), ('Nvidia', 'NNP'), ('Jensen', 'NNP'), ('Huang', 'NNP'), ('.', '.'), ('Tại', 'NNP'), ('một', 'NN'), ('sự', 'NN'), ('kiện', 'NN'), ('cuối', 'NN'), ('tháng', 'VBD'), ('2', 'CD'), ('vừa', 'NN'), ('qua', 'NN'), (',', ','), ('ông', 'NNP'), ('Huang', 'NNP'), ('từng', 'VBD'), ('gây', 'JJ'), ('sốc', 'NN'), ('khi', 'NN'), ('khuyên', 'NN'), ('người', 'JJ'), ('trẻ', 'NN'), ('không', 'NN'), ('học', 'NN'), ('viết', 'NN'), ('mã', 'NN'), ('.', '.'), ('Theo', 'NNP'), ('ông', 'NNP'), (',', ','), ('con', 'NN'), ('người', 'NN'), ('đang', 'NNP'), ('ở', 'NNP'), ('giai', 'NN'), ('đoạn', 'NNP'), ('đầu', 'NNP'), ('của', 'NN'), ('cuộc', 'NN'), ('cách', 'NN'), ('mạng', 'NN'), ('AI', 'NNP'), ('và', 'NN'), ('lập', 'NN'), ('trình', 'NN'), ('không', 'NN'), ('còn', 'NN'), ('là', 'NN'), ('kỹ', 'NN'), ('năng', 'JJ'), ('quan', 'JJ'), ('trọng', 'NN'), ('nữa', 'NN'), ('.', '.'), ('Ông', 'CC'), ('cho', 'JJ'), ('rằng', 'NN'), ('trí', 'NN'), ('tuệ', 'NN'), ('nhân', 'JJ'), ('tạo', 'NN'), ('đang', 'NNP'), ('đảm', 'NNP'), ('nhận', 'MD'), ('công', 'VB'), ('việc', 'JJ'), ('này', 'JJ'), ('ngày', 'NN'), ('một', 'NN'), ('tốt', 'NN'), (',', ','), ('do', 'VBP'), ('đó', 'VB'), ('con', 'VB'), ('người', 'JJ'), ('nên', 'JJ'), ('tập', 'NN'), ('trung', 'NN'), ('vào', 'NN'), ('các', 'NN'), ('chuyên', 'NN'), ('môn', 'NN'), ('có', 'NN'), ('giá', 'NN'), ('trị', 'NN'), ('hơn', 'NN'), ('như', 'JJ'), ('sinh', 'NN'), ('học', 'NN'), (',', ','), ('giáo', 'NN'), ('dục', 'NN'), (',', ','), ('sản', 'JJ'), ('xuất', 'NNP'), ('hoặc', 'NN'), ('nông', 'NN'), ('nghiệp', 'NN'), ('.', '.'), ('Thu', 'NNP'), ('Thảo', 'NNP'), ('-', ':'), ('Lưu', 'NNP'), ('Quý', 'NNP')]\n"
          ]
        }
      ],
      "source": [
        "tokens = word_tokenize(article.text)\n",
        "res = nltk.pos_tag(tokens)\n",
        "print(res)"
      ]
    }
  ],
  "metadata": {
    "anaconda-cloud": {},
    "kernelspec": {
      "display_name": "Python 3",
      "language": "python",
      "name": "python3"
    },
    "language_info": {
      "codemirror_mode": {
        "name": "ipython",
        "version": 3
      },
      "file_extension": ".py",
      "mimetype": "text/x-python",
      "name": "python",
      "nbconvert_exporter": "python",
      "pygments_lexer": "ipython3",
      "version": "3.10.14"
    }
  },
  "nbformat": 4,
  "nbformat_minor": 4
}
