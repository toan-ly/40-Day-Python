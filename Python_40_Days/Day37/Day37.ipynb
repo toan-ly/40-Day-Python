{
 "cells": [
  {
   "cell_type": "code",
   "execution_count": 6,
   "metadata": {},
   "outputs": [],
   "source": [
    "from pypdf import PdfReader\n",
    "\n",
    "reader = PdfReader('yolov9.pdf')\n",
    "num_pages = len(reader.pages)\n",
    "page_1 = reader.pages[0]\n",
    "page_1_text = page_1.extract_text()"
   ]
  },
  {
   "cell_type": "code",
   "execution_count": 9,
   "metadata": {},
   "outputs": [],
   "source": [
    "pages_txt = ''\n",
    "for i in range(num_pages):\n",
    "    page = reader.pages[i]\n",
    "    pages_txt += page.extract_text() + '\\n'"
   ]
  },
  {
   "cell_type": "code",
   "execution_count": 13,
   "metadata": {},
   "outputs": [],
   "source": [
    "count = 0\n",
    "for page in reader.pages:\n",
    "    for image_file_object in page.images:\n",
    "        with open(str(count) + image_file_object.name, 'wb') as fp:\n",
    "            fp.write(image_file_object.data)\n",
    "            count += 1"
   ]
  },
  {
   "cell_type": "code",
   "execution_count": 15,
   "metadata": {},
   "outputs": [],
   "source": [
    "from pypdf import PdfWriter\n",
    "\n",
    "merger = PdfWriter()\n",
    "for pdf in ['yolov6.pdf', 'yolov7.pdf', 'yolov9.pdf']:\n",
    "    merger.append(pdf)\n",
    "\n",
    "merger.write('merged-yolob-679.pdf')\n",
    "merger.close()"
   ]
  },
  {
   "cell_type": "code",
   "execution_count": 16,
   "metadata": {},
   "outputs": [],
   "source": [
    "writer = PdfWriter(clone_from='yolov9.pdf')\n",
    "\n",
    "for page in writer.pages:\n",
    "    page.compress_content_streams(level=8)\n",
    "\n",
    "with open('out.pdf', 'wb') as f:\n",
    "    writer.write(f)"
   ]
  },
  {
   "cell_type": "code",
   "execution_count": 20,
   "metadata": {},
   "outputs": [
    {
     "name": "stdout",
     "output_type": "stream",
     "text": [
      "yolov9.pdf size: 4.738467216491699\n",
      "out.pdf size: 4.718204498291016\n"
     ]
    }
   ],
   "source": [
    "import os\n",
    "\n",
    "file_size = os.path.getsize('yolov9.pdf') / (1024 * 1024)\n",
    "print(f'yolov9.pdf size: {file_size}')\n",
    "\n",
    "file_size = os.path.getsize('out.pdf') / (1024 * 1024)\n",
    "print(f'out.pdf size: {file_size}')"
   ]
  }
 ],
 "metadata": {
  "kernelspec": {
   "display_name": "aio2024_env",
   "language": "python",
   "name": "python3"
  },
  "language_info": {
   "codemirror_mode": {
    "name": "ipython",
    "version": 3
   },
   "file_extension": ".py",
   "mimetype": "text/x-python",
   "name": "python",
   "nbconvert_exporter": "python",
   "pygments_lexer": "ipython3",
   "version": "3.10.14"
  }
 },
 "nbformat": 4,
 "nbformat_minor": 2
}
