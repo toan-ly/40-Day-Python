{
  "cells": [
    {
      "cell_type": "markdown",
      "metadata": {},
      "source": [
        "## 2D List"
      ]
    },
    {
      "cell_type": "code",
      "execution_count": 18,
      "metadata": {},
      "outputs": [
        {
          "name": "stdout",
          "output_type": "stream",
          "text": [
            "[[1, 3], [4, 6], [7, 9]]\n"
          ]
        }
      ],
      "source": [
        "lst_data = [[1, 2, 3],\n",
        "         [4, 5, 6],\n",
        "         [7, 8, 9]]\n",
        "lst_sub_data = []\n",
        "for row in lst_data:\n",
        "    lst_sub_data.append([row[0], row[2]])\n",
        "print(lst_sub_data)"
      ]
    },
    {
      "cell_type": "markdown",
      "metadata": {},
      "source": [
        "## Matrix"
      ]
    },
    {
      "cell_type": "markdown",
      "metadata": {},
      "source": [
        "### Question 1"
      ]
    },
    {
      "cell_type": "code",
      "execution_count": 19,
      "metadata": {},
      "outputs": [
        {
          "name": "stdout",
          "output_type": "stream",
          "text": [
            "A = [[1, 2, 3], [4, 5, 6], [7, 8, 9]]\n",
            "B = [[2, 4, 6], [1, 3, 5], [1, 0, 1]]\n",
            "A + B = [[3, 6, 9], [5, 8, 11], [8, 8, 10]]\n",
            "A - B = [[-1, -2, -3], [3, 2, 1], [6, 8, 8]]\n"
          ]
        }
      ],
      "source": [
        "A = [[1, 2, 3],\n",
        "         [4, 5, 6],\n",
        "         [7, 8, 9]]\n",
        "B = [[2, 4, 6],\n",
        "         [1, 3, 5],\n",
        "         [1, 0, 1]]\n",
        "rows, cols = len(A), len(A[0])\n",
        "mat_sum = [[A[i][j] + B[i][j] for j in range(cols)] for i in range(rows)]\n",
        "mat_diff = [[A[i][j] - B[i][j] for j in range(cols)] for i in range(rows)]\n",
        "print(f'A = {A}\\nB = {B}')\n",
        "print(f'A + B = {mat_sum}')\n",
        "print(f'A - B = {mat_diff}')"
      ]
    },
    {
      "cell_type": "markdown",
      "metadata": {},
      "source": [
        "### Question 2"
      ]
    },
    {
      "cell_type": "code",
      "execution_count": 22,
      "metadata": {},
      "outputs": [
        {
          "name": "stdout",
          "output_type": "stream",
          "text": [
            "A = [[1, 2, 3], [4, 5, 6], [7, 8, 9]]\n",
            "B = [[2, 4, 6], [1, 3, 5], [1, 0, 1]]\n",
            "Dot Product = [[7, 10, 19], [19, 31, 55], [31, 52, 91]]\n",
            "\n",
            "A = [[1, 2, 3], [4, 5, 6], [7, 8, 9]]\n",
            "B = [[1, 1], [1, 1]]\n",
            "Matrix dimensions not match!\n",
            "\n",
            "A = [[1, 2, 3], [4, 5, 6], [7, 8, 9]]\n",
            "B = [[1, 0, 0], [0, 1, 0], [0, 0, 1]]\n",
            "Dot Product = [[1, 2, 3], [4, 5, 6], [7, 8, 9]]\n",
            "\n"
          ]
        }
      ],
      "source": [
        "def dot_product(A, B):\n",
        "    res = []\n",
        "\n",
        "    print(f'A = {A}\\nB = {B}')\n",
        "    if len(A[0]) != len(B):\n",
        "        print('Matrix dimensions not match!\\n')\n",
        "        return\n",
        "\n",
        "    for i in range(len(A)):\n",
        "        row = []\n",
        "        for j in range(len(A[0])):\n",
        "            row.append(sum(A[i][k] * B[k][j] for k in range(len(A[0]))))\n",
        "        res.append(row)\n",
        "\n",
        "    print(f'Dot Product = {res}\\n')\n",
        "\n",
        "dot_product(A, B)\n",
        "\n",
        "B2 = [[1, 1], [1, 1]]\n",
        "dot_product(A, B2)\n",
        "\n",
        "B3 = [[1, 0, 0], [0, 1, 0], [0, 0, 1]]\n",
        "dot_product(A, B3)"
      ]
    }
  ],
  "metadata": {
    "anaconda-cloud": {},
    "kernelspec": {
      "display_name": "Python 3",
      "language": "python",
      "name": "python3"
    },
    "language_info": {
      "codemirror_mode": {
        "name": "ipython",
        "version": 3
      },
      "file_extension": ".py",
      "mimetype": "text/x-python",
      "name": "python",
      "nbconvert_exporter": "python",
      "pygments_lexer": "ipython3",
      "version": "3.10.14"
    }
  },
  "nbformat": 4,
  "nbformat_minor": 4
}
