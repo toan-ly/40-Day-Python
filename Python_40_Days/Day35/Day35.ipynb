{
 "cells": [
  {
   "cell_type": "markdown",
   "metadata": {},
   "source": [
    "### Create a table\n",
    "``` sql\n",
    "CREATE TABLE customers (\n",
    "    email TEXT PRIMARY KEY,\n",
    "    name TEXT NOT NULL,\n",
    "    phone TEXT\n",
    ");\n",
    "```\n",
    "\n",
    "### Query\n",
    "Get data from all columns in table CUSTOMERS\n",
    "``` sql\n",
    "SELECT *\n",
    "FROM CUSTOMERS;\n",
    "```\n",
    "\n",
    "Get data from specified columns with a condition in table\n",
    "``` sql\n",
    "SELECT NAME, PHONE\n",
    "FROM CUSTOMERS\n",
    "WHERE 1 = 1\n",
    "AND EMAIL = 'pikachu1@gmail.com';\n",
    "```\n",
    "\n",
    "### Insert\n",
    "``` sql\n",
    "INSERT INTO CUSTOMERS(EMAIL, NAME, PHONE)\n",
    "VALUES\n",
    "    ('pikachu2@gmail.com', 'Ly', '123456789'),\n",
    "    ('pikachu3@gmail.com', 'Toan', '123456789');\n",
    "```\n",
    "\n",
    "### Update\n",
    "``` sql\n",
    "UPDATE CUSTOMERS\n",
    "SET NAME = 'Toan Ly'\n",
    "WHERE 1 = 1\n",
    "AND EMAIL = 'pikachu@gmail.com';\n",
    "```\n",
    "\n",
    "### Delete\n",
    "``` sql\n",
    "DELETE FROM CUSTOMERS\n",
    "WHERE 1 = 1\n",
    "AND EMAIL = 'pikachu@gmail.com';\n",
    "```"
   ]
  },
  {
   "cell_type": "code",
   "execution_count": 43,
   "metadata": {},
   "outputs": [],
   "source": [
    "import sqlite3\n",
    "import pandas as pd\n",
    "\n",
    "def execute_query(query, table_name='PRODUCT'):\n",
    "    with sqlite3.connect('database.sqlite') as connection:\n",
    "        cursor = connection.cursor()\n",
    "        cursor.execute(query)\n",
    "        connection.commit()\n",
    "        data = pd.read_sql_query(f'SELECT * FROM {table_name}', connection)\n",
    "    print(data)"
   ]
  },
  {
   "cell_type": "code",
   "execution_count": 45,
   "metadata": {},
   "outputs": [
    {
     "name": "stdout",
     "output_type": "stream",
     "text": [
      "Empty DataFrame\n",
      "Columns: [ID, NAME, PRICE]\n",
      "Index: []\n"
     ]
    }
   ],
   "source": [
    "create_table_query = '''\n",
    "CREATE TABLE PRODUCT (\n",
    "    ID INTEGER PRIMARY KEY,\n",
    "    NAME TEXT NOT NULL,\n",
    "    PRICE INTEGER NOT NULL\n",
    ");               \n",
    "'''\n",
    "execute_query(create_table_query)"
   ]
  },
  {
   "cell_type": "code",
   "execution_count": 46,
   "metadata": {},
   "outputs": [
    {
     "name": "stdout",
     "output_type": "stream",
     "text": [
      "   ID             NAME     PRICE\n",
      "0   1        iPhone 15  18000000\n",
      "1   2  Galaxy Z-Fold 5  30000000\n"
     ]
    }
   ],
   "source": [
    "insert_query = '''\n",
    "INSERT INTO PRODUCT(ID, NAME, PRICE)\n",
    "VALUES\n",
    "    (1, 'iPhone 15', 18000000), \n",
    "    (2, 'Galaxy Z-Fold 5', 30000000)\n",
    "'''\n",
    "execute_query(insert_query)"
   ]
  },
  {
   "cell_type": "code",
   "execution_count": 47,
   "metadata": {},
   "outputs": [
    {
     "name": "stdout",
     "output_type": "stream",
     "text": [
      "   ID             NAME     PRICE\n",
      "0   1        iPhone 15  18000000\n",
      "1   2  Galaxy Z-Fold 5  50000000\n"
     ]
    }
   ],
   "source": [
    "update_query = '''\n",
    "UPDATE PRODUCT\n",
    "SET PRICE = 50000000\n",
    "WHERE 1 = 1\n",
    "AND NAME = 'Galaxy Z-Fold 5'        \n",
    "'''\n",
    "execute_query(update_query)"
   ]
  },
  {
   "cell_type": "code",
   "execution_count": 48,
   "metadata": {},
   "outputs": [
    {
     "name": "stdout",
     "output_type": "stream",
     "text": [
      "   ID             NAME     PRICE\n",
      "0   2  Galaxy Z-Fold 5  50000000\n"
     ]
    }
   ],
   "source": [
    "delete_query = '''\n",
    "DELETE FROM PRODUCT\n",
    "WHERE 1 = 1\n",
    "AND NAME = 'iPhone 15'        \n",
    "'''\n",
    "execute_query(delete_query)"
   ]
  }
 ],
 "metadata": {
  "kernelspec": {
   "display_name": "aio2024_env",
   "language": "python",
   "name": "python3"
  },
  "language_info": {
   "codemirror_mode": {
    "name": "ipython",
    "version": 3
   },
   "file_extension": ".py",
   "mimetype": "text/x-python",
   "name": "python",
   "nbconvert_exporter": "python",
   "pygments_lexer": "ipython3",
   "version": "3.10.14"
  }
 },
 "nbformat": 4,
 "nbformat_minor": 2
}
