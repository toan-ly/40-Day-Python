{
  "cells": [
    {
      "cell_type": "code",
      "execution_count": 22,
      "metadata": {},
      "outputs": [
        {
          "name": "stdout",
          "output_type": "stream",
          "text": [
            "he who conquers himself is the mightiest warrior try not to become a man of success but rather become a man of value one man with courage makes a majority one secret of success in life is for a man to be ready for his opportunity when it comes the successful man will profit from his mistakes and try again in a different way a successful man is one who can lay a firm foundation with the bricks others have thrown at him success usually comes to those who are too busy looking for it we cannot solve problems with the kind of thinking we employed when we came up with them just one small positive thought in the morning can change your whole day you can get everything in life you want if you will just help enough other people get what they want\n"
          ]
        }
      ],
      "source": [
        "# 1\n",
        "with open('data.txt', 'r') as f:\n",
        "    data = f.read().replace('\\n', ' ').lower()\n",
        "print(data)"
      ]
    },
    {
      "cell_type": "code",
      "execution_count": 23,
      "metadata": {},
      "outputs": [
        {
          "name": "stdout",
          "output_type": "stream",
          "text": [
            "{'change', 'other', 'your', 'just', 'usually', 'it', 'opportunity', 'successful', 'came', 'profit', 'firm', 'too', 'success', 'and', 'from', 'foundation', 'employed', 'morning', 'busy', 'will', 'enough', 'looking', 'him', 'want', 'if', 'the', 'in', 'up', 'solve', 'himself', 'problems', 'kind', 'become', 'thrown', 'we', 'is', 'try', 'get', 'makes', 'for', 'what', 'you', 'thought', 'can', 'way', 'are', 'whole', 'but', 'value', 'everything', 'different', 'have', 'to', 'mightiest', 'at', 'with', 'man', 'he', 'help', 'lay', 'majority', 'secret', 'day', 'mistakes', 'one', 'a', 'people', 'who', 'comes', 'be', 'his', 'again', 'warrior', 'cannot', 'rather', 'of', 'not', 'others', 'small', 'those', 'they', 'when', 'bricks', 'courage', 'thinking', 'ready', 'positive', 'conquers', 'life', 'them'}\n"
          ]
        }
      ],
      "source": [
        "# 2\n",
        "distinct_words = set(data.split())\n",
        "print(distinct_words)"
      ]
    },
    {
      "cell_type": "code",
      "execution_count": 26,
      "metadata": {},
      "outputs": [
        {
          "name": "stdout",
          "output_type": "stream",
          "text": [
            "\"thought\" in data is 1\n",
            "\"you\" in data is 4\n",
            "change is the least common word (count: 1)\n",
            "a is the most frequent word (count: 42)\n"
          ]
        }
      ],
      "source": [
        "# 3\n",
        "word_counts = {}\n",
        "for word in distinct_words:\n",
        "    word_counts[word] = data.count(word)\n",
        "\n",
        "sorted_word_counts = sorted(word_counts.items(), key=lambda x: x[1])\n",
        "\n",
        "print(f'\"thought\" in data is {word_counts[\"thought\"]}')\n",
        "print(f'\"you\" in data is {word_counts[\"you\"]}')\n",
        "print(f'{sorted_word_counts[0][0]} is the least common word (count: {sorted_word_counts[0][1]})')\n",
        "print(f'{sorted_word_counts[-1][0]} is the most frequent word (count: {sorted_word_counts[-1][1]})')"
      ]
    }
  ],
  "metadata": {
    "anaconda-cloud": {},
    "kernelspec": {
      "display_name": "Python 3",
      "language": "python",
      "name": "python3"
    },
    "language_info": {
      "codemirror_mode": {
        "name": "ipython",
        "version": 3
      },
      "file_extension": ".py",
      "mimetype": "text/x-python",
      "name": "python",
      "nbconvert_exporter": "python",
      "pygments_lexer": "ipython3",
      "version": "3.10.14"
    }
  },
  "nbformat": 4,
  "nbformat_minor": 4
}
