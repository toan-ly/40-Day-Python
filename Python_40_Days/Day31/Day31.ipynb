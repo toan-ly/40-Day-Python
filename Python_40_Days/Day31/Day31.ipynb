{
 "cells": [
  {
   "cell_type": "code",
   "execution_count": 4,
   "metadata": {},
   "outputs": [
    {
     "name": "stdout",
     "output_type": "stream",
     "text": [
      "Collecting pygwalker\n",
      "  Using cached pygwalker-0.4.8-py3-none-any.whl.metadata (19 kB)\n",
      "Collecting appdirs (from pygwalker)\n",
      "  Using cached appdirs-1.4.4-py2.py3-none-any.whl.metadata (9.0 kB)\n",
      "Requirement already satisfied: arrow in /Users/toanne/anaconda3/envs/aio2024_env/lib/python3.10/site-packages (from pygwalker) (1.3.0)\n",
      "Collecting astor (from pygwalker)\n",
      "  Using cached astor-0.8.1-py2.py3-none-any.whl.metadata (4.2 kB)\n",
      "Requirement already satisfied: cachetools in /Users/toanne/anaconda3/envs/aio2024_env/lib/python3.10/site-packages (from pygwalker) (5.3.3)\n",
      "Collecting duckdb==0.10.1 (from pygwalker)\n",
      "  Using cached duckdb-0.10.1-cp310-cp310-macosx_10_9_x86_64.whl.metadata (763 bytes)\n",
      "Collecting gw-dsl-parser==0.1.47 (from pygwalker)\n",
      "  Using cached gw_dsl_parser-0.1.47-py3-none-any.whl.metadata (1.2 kB)\n",
      "Requirement already satisfied: ipython in /Users/toanne/anaconda3/envs/aio2024_env/lib/python3.10/site-packages (from pygwalker) (8.22.2)\n",
      "Requirement already satisfied: ipywidgets in /Users/toanne/anaconda3/envs/aio2024_env/lib/python3.10/site-packages (from pygwalker) (8.1.2)\n",
      "Requirement already satisfied: jinja2 in /Users/toanne/anaconda3/envs/aio2024_env/lib/python3.10/site-packages (from pygwalker) (3.1.3)\n",
      "Collecting kanaries-track==0.0.4 (from pygwalker)\n",
      "  Using cached kanaries_track-0.0.4-py3-none-any.whl.metadata (913 bytes)\n",
      "Requirement already satisfied: packaging in /Users/toanne/anaconda3/envs/aio2024_env/lib/python3.10/site-packages (from pygwalker) (24.0)\n",
      "Requirement already satisfied: pandas in /Users/toanne/anaconda3/envs/aio2024_env/lib/python3.10/site-packages (from pygwalker) (2.2.2)\n",
      "Requirement already satisfied: psutil in /Users/toanne/anaconda3/envs/aio2024_env/lib/python3.10/site-packages (from pygwalker) (5.9.8)\n",
      "Requirement already satisfied: pyarrow in /Users/toanne/anaconda3/envs/aio2024_env/lib/python3.10/site-packages (from pygwalker) (15.0.2)\n",
      "Collecting pydantic (from pygwalker)\n",
      "  Using cached pydantic-2.7.0-py3-none-any.whl.metadata (103 kB)\n",
      "Requirement already satisfied: pytz in /Users/toanne/anaconda3/envs/aio2024_env/lib/python3.10/site-packages (from pygwalker) (2024.1)\n",
      "Requirement already satisfied: requests in /Users/toanne/anaconda3/envs/aio2024_env/lib/python3.10/site-packages (from pygwalker) (2.31.0)\n",
      "Collecting segment-analytics-python==2.2.3 (from pygwalker)\n",
      "  Using cached segment_analytics_python-2.2.3-py2.py3-none-any.whl.metadata (1.6 kB)\n",
      "Collecting sqlalchemy (from pygwalker)\n",
      "  Using cached SQLAlchemy-2.0.29-cp310-cp310-macosx_10_9_x86_64.whl.metadata (9.6 kB)\n",
      "Collecting sqlglot>=19.0.0 (from pygwalker)\n",
      "  Using cached sqlglot-23.10.0-py3-none-any.whl.metadata (18 kB)\n",
      "Requirement already satisfied: typing-extensions in /Users/toanne/anaconda3/envs/aio2024_env/lib/python3.10/site-packages (from pygwalker) (4.11.0)\n",
      "Collecting wasmtime==12.0.0 (from gw-dsl-parser==0.1.47->pygwalker)\n",
      "  Using cached wasmtime-12.0.0-py3-none-macosx_10_13_x86_64.whl.metadata (7.4 kB)\n",
      "Collecting backoff>=2.2.1 (from kanaries-track==0.0.4->pygwalker)\n",
      "  Using cached backoff-2.2.1-py3-none-any.whl.metadata (14 kB)\n",
      "Collecting dateutils>=0.6.12 (from kanaries-track==0.0.4->pygwalker)\n",
      "  Using cached dateutils-0.6.12-py2.py3-none-any.whl.metadata (1.3 kB)\n",
      "Collecting monotonic~=1.5 (from segment-analytics-python==2.2.3->pygwalker)\n",
      "  Using cached monotonic-1.6-py2.py3-none-any.whl.metadata (1.5 kB)\n",
      "Requirement already satisfied: python-dateutil~=2.2 in /Users/toanne/anaconda3/envs/aio2024_env/lib/python3.10/site-packages (from segment-analytics-python==2.2.3->pygwalker) (2.9.0)\n",
      "Requirement already satisfied: charset-normalizer<4,>=2 in /Users/toanne/anaconda3/envs/aio2024_env/lib/python3.10/site-packages (from requests->pygwalker) (3.3.2)\n",
      "Requirement already satisfied: idna<4,>=2.5 in /Users/toanne/anaconda3/envs/aio2024_env/lib/python3.10/site-packages (from requests->pygwalker) (2.10)\n",
      "Requirement already satisfied: urllib3<3,>=1.21.1 in /Users/toanne/anaconda3/envs/aio2024_env/lib/python3.10/site-packages (from requests->pygwalker) (2.2.1)\n",
      "Requirement already satisfied: certifi>=2017.4.17 in /Users/toanne/anaconda3/envs/aio2024_env/lib/python3.10/site-packages (from requests->pygwalker) (2024.2.2)\n",
      "Requirement already satisfied: types-python-dateutil>=2.8.10 in /Users/toanne/anaconda3/envs/aio2024_env/lib/python3.10/site-packages (from arrow->pygwalker) (2.9.0.20240316)\n",
      "Requirement already satisfied: decorator in /Users/toanne/anaconda3/envs/aio2024_env/lib/python3.10/site-packages (from ipython->pygwalker) (5.1.1)\n",
      "Requirement already satisfied: jedi>=0.16 in /Users/toanne/anaconda3/envs/aio2024_env/lib/python3.10/site-packages (from ipython->pygwalker) (0.19.1)\n",
      "Requirement already satisfied: matplotlib-inline in /Users/toanne/anaconda3/envs/aio2024_env/lib/python3.10/site-packages (from ipython->pygwalker) (0.1.6)\n",
      "Requirement already satisfied: prompt-toolkit<3.1.0,>=3.0.41 in /Users/toanne/anaconda3/envs/aio2024_env/lib/python3.10/site-packages (from ipython->pygwalker) (3.0.42)\n",
      "Requirement already satisfied: pygments>=2.4.0 in /Users/toanne/anaconda3/envs/aio2024_env/lib/python3.10/site-packages (from ipython->pygwalker) (2.17.2)\n",
      "Requirement already satisfied: stack-data in /Users/toanne/anaconda3/envs/aio2024_env/lib/python3.10/site-packages (from ipython->pygwalker) (0.6.2)\n",
      "Requirement already satisfied: traitlets>=5.13.0 in /Users/toanne/anaconda3/envs/aio2024_env/lib/python3.10/site-packages (from ipython->pygwalker) (5.14.2)\n",
      "Requirement already satisfied: exceptiongroup in /Users/toanne/anaconda3/envs/aio2024_env/lib/python3.10/site-packages (from ipython->pygwalker) (1.2.0)\n",
      "Requirement already satisfied: pexpect>4.3 in /Users/toanne/anaconda3/envs/aio2024_env/lib/python3.10/site-packages (from ipython->pygwalker) (4.9.0)\n",
      "Requirement already satisfied: comm>=0.1.3 in /Users/toanne/anaconda3/envs/aio2024_env/lib/python3.10/site-packages (from ipywidgets->pygwalker) (0.2.2)\n",
      "Requirement already satisfied: widgetsnbextension~=4.0.10 in /Users/toanne/anaconda3/envs/aio2024_env/lib/python3.10/site-packages (from ipywidgets->pygwalker) (4.0.10)\n",
      "Requirement already satisfied: jupyterlab-widgets~=3.0.10 in /Users/toanne/anaconda3/envs/aio2024_env/lib/python3.10/site-packages (from ipywidgets->pygwalker) (3.0.10)\n",
      "Requirement already satisfied: MarkupSafe>=2.0 in /Users/toanne/anaconda3/envs/aio2024_env/lib/python3.10/site-packages (from jinja2->pygwalker) (2.1.5)\n",
      "Requirement already satisfied: numpy>=1.22.4 in /Users/toanne/anaconda3/envs/aio2024_env/lib/python3.10/site-packages (from pandas->pygwalker) (1.26.4)\n",
      "Requirement already satisfied: tzdata>=2022.7 in /Users/toanne/anaconda3/envs/aio2024_env/lib/python3.10/site-packages (from pandas->pygwalker) (2024.1)\n",
      "Collecting annotated-types>=0.4.0 (from pydantic->pygwalker)\n",
      "  Using cached annotated_types-0.6.0-py3-none-any.whl.metadata (12 kB)\n",
      "Collecting pydantic-core==2.18.1 (from pydantic->pygwalker)\n",
      "  Using cached pydantic_core-2.18.1-cp310-cp310-macosx_10_12_x86_64.whl.metadata (6.5 kB)\n",
      "Collecting greenlet!=0.4.17 (from sqlalchemy->pygwalker)\n",
      "  Using cached greenlet-3.0.3-cp310-cp310-macosx_10_9_x86_64.whl\n",
      "Requirement already satisfied: parso<0.9.0,>=0.8.3 in /Users/toanne/anaconda3/envs/aio2024_env/lib/python3.10/site-packages (from jedi>=0.16->ipython->pygwalker) (0.8.4)\n",
      "Requirement already satisfied: ptyprocess>=0.5 in /Users/toanne/anaconda3/envs/aio2024_env/lib/python3.10/site-packages (from pexpect>4.3->ipython->pygwalker) (0.7.0)\n",
      "Requirement already satisfied: wcwidth in /Users/toanne/anaconda3/envs/aio2024_env/lib/python3.10/site-packages (from prompt-toolkit<3.1.0,>=3.0.41->ipython->pygwalker) (0.2.13)\n",
      "Requirement already satisfied: six>=1.5 in /Users/toanne/anaconda3/envs/aio2024_env/lib/python3.10/site-packages (from python-dateutil~=2.2->segment-analytics-python==2.2.3->pygwalker) (1.16.0)\n",
      "Requirement already satisfied: executing>=1.2.0 in /Users/toanne/anaconda3/envs/aio2024_env/lib/python3.10/site-packages (from stack-data->ipython->pygwalker) (2.0.1)\n",
      "Requirement already satisfied: asttokens>=2.1.0 in /Users/toanne/anaconda3/envs/aio2024_env/lib/python3.10/site-packages (from stack-data->ipython->pygwalker) (2.4.1)\n",
      "Requirement already satisfied: pure-eval in /Users/toanne/anaconda3/envs/aio2024_env/lib/python3.10/site-packages (from stack-data->ipython->pygwalker) (0.2.2)\n",
      "Using cached pygwalker-0.4.8-py3-none-any.whl (2.2 MB)\n",
      "Using cached duckdb-0.10.1-cp310-cp310-macosx_10_9_x86_64.whl (16.6 MB)\n",
      "Using cached gw_dsl_parser-0.1.47-py3-none-any.whl (993 kB)\n",
      "Using cached kanaries_track-0.0.4-py3-none-any.whl (8.6 kB)\n",
      "Using cached segment_analytics_python-2.2.3-py2.py3-none-any.whl (24 kB)\n",
      "Using cached wasmtime-12.0.0-py3-none-macosx_10_13_x86_64.whl (5.6 MB)\n",
      "Using cached sqlglot-23.10.0-py3-none-any.whl (385 kB)\n",
      "Using cached appdirs-1.4.4-py2.py3-none-any.whl (9.6 kB)\n",
      "Using cached astor-0.8.1-py2.py3-none-any.whl (27 kB)\n",
      "Using cached pydantic-2.7.0-py3-none-any.whl (407 kB)\n",
      "Using cached pydantic_core-2.18.1-cp310-cp310-macosx_10_12_x86_64.whl (1.9 MB)\n",
      "Using cached SQLAlchemy-2.0.29-cp310-cp310-macosx_10_9_x86_64.whl (2.1 MB)\n",
      "Using cached annotated_types-0.6.0-py3-none-any.whl (12 kB)\n",
      "Using cached backoff-2.2.1-py3-none-any.whl (15 kB)\n",
      "Using cached dateutils-0.6.12-py2.py3-none-any.whl (5.7 kB)\n",
      "Using cached monotonic-1.6-py2.py3-none-any.whl (8.2 kB)\n",
      "Installing collected packages: monotonic, appdirs, wasmtime, sqlglot, pydantic-core, greenlet, duckdb, backoff, astor, annotated-types, sqlalchemy, segment-analytics-python, pydantic, gw-dsl-parser, dateutils, kanaries-track, pygwalker\n",
      "Successfully installed annotated-types-0.6.0 appdirs-1.4.4 astor-0.8.1 backoff-2.2.1 dateutils-0.6.12 duckdb-0.10.1 greenlet-3.0.3 gw-dsl-parser-0.1.47 kanaries-track-0.0.4 monotonic-1.6 pydantic-2.7.0 pydantic-core-2.18.1 pygwalker-0.4.8 segment-analytics-python-2.2.3 sqlalchemy-2.0.29 sqlglot-23.10.0 wasmtime-12.0.0\n"
     ]
    }
   ],
   "source": [
    "!pip install pygwalker"
   ]
  },
  {
   "cell_type": "code",
   "execution_count": 2,
   "metadata": {},
   "outputs": [
    {
     "data": {
      "application/vnd.jupyter.widget-view+json": {
       "model_id": "42324863e150466abab8921eef89c4db",
       "version_major": 2,
       "version_minor": 0
      },
      "text/plain": [
       "Box(children=(HTML(value='<div id=\"ifr-pyg-0006166b64ceff03xvntXm2JGg0WzjA5\" style=\"height: auto\">\\n    <head>…"
      ]
     },
     "metadata": {},
     "output_type": "display_data"
    },
    {
     "data": {
      "text/html": [],
      "text/plain": [
       "<IPython.core.display.HTML object>"
      ]
     },
     "metadata": {},
     "output_type": "display_data"
    },
    {
     "data": {
      "text/plain": [
       "<pygwalker.api.pygwalker.PygWalker at 0x7f9b4c494c40>"
      ]
     },
     "execution_count": 2,
     "metadata": {},
     "output_type": "execute_result"
    }
   ],
   "source": [
    "import pygwalker as pyg\n",
    "import pandas as pd\n",
    "data = pd.read_csv('advertising.csv')\n",
    "pyg.walk(data)"
   ]
  },
  {
   "cell_type": "code",
   "execution_count": 3,
   "metadata": {},
   "outputs": [
    {
     "data": {
      "application/vnd.jupyter.widget-view+json": {
       "model_id": "86c93476b9b341d6baf1c68280c44eca",
       "version_major": 2,
       "version_minor": 0
      },
      "text/plain": [
       "Box(children=(HTML(value='<div id=\"ifr-pyg-0006166b65fc2b7ePMl2IBGQa0HxkrZL\" style=\"height: auto\">\\n    <head>…"
      ]
     },
     "metadata": {},
     "output_type": "display_data"
    },
    {
     "data": {
      "text/html": [],
      "text/plain": [
       "<IPython.core.display.HTML object>"
      ]
     },
     "metadata": {},
     "output_type": "display_data"
    },
    {
     "data": {
      "text/plain": [
       "<pygwalker.api.pygwalker.PygWalker at 0x7f9b4c4804f0>"
      ]
     },
     "execution_count": 3,
     "metadata": {},
     "output_type": "execute_result"
    }
   ],
   "source": [
    "data = pd.read_csv('worldcities.csv')\n",
    "pyg.walk(data)"
   ]
  }
 ],
 "metadata": {
  "kernelspec": {
   "display_name": "Python 3 (ipykernel)",
   "language": "python",
   "name": "python3"
  },
  "language_info": {
   "codemirror_mode": {
    "name": "ipython",
    "version": 3
   },
   "file_extension": ".py",
   "mimetype": "text/x-python",
   "name": "python",
   "nbconvert_exporter": "python",
   "pygments_lexer": "ipython3",
   "version": "3.10.14"
  }
 },
 "nbformat": 4,
 "nbformat_minor": 4
}
