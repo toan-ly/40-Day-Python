{
 "cells": [
  {
   "cell_type": "code",
   "execution_count": 6,
   "metadata": {},
   "outputs": [
    {
     "name": "stdout",
     "output_type": "stream",
     "text": [
      "Welcome to AI VIETNAM 2024\n"
     ]
    }
   ],
   "source": [
    "name = 'AI VIETNAM'\n",
    "year = 2024\n",
    "print(f'Welcome to {name} {year}')"
   ]
  },
  {
   "cell_type": "code",
   "execution_count": 7,
   "metadata": {},
   "outputs": [
    {
     "name": "stdout",
     "output_type": "stream",
     "text": [
      "Welcome to AI VIETNAM 2024\n",
      "{'name': <class 'str'>, 'year': <class 'int'>, 'numbers': list[int], 'person': tuple[str, int], 'value': int | float, 'info': tuple[list[int], dict], 'is_active': <class 'bool'>}\n"
     ]
    }
   ],
   "source": [
    "name: str = 'AI VIETNAM'\n",
    "year: int = 2024\n",
    "print(f'Welcome to {name} {year}')\n",
    "print(__annotations__)"
   ]
  },
  {
   "cell_type": "code",
   "execution_count": 8,
   "metadata": {},
   "outputs": [
    {
     "name": "stdout",
     "output_type": "stream",
     "text": [
      "{'name': <class 'str'>, 'year': <class 'int'>, 'numbers': list[int], 'person': tuple[str, int], 'value': int | float, 'info': tuple[list[int], dict], 'is_active': <class 'bool'>}\n"
     ]
    },
    {
     "ename": "NameError",
     "evalue": "name 'numbers' is not defined",
     "output_type": "error",
     "traceback": [
      "\u001b[0;31m---------------------------------------------------------------------------\u001b[0m",
      "\u001b[0;31mNameError\u001b[0m                                 Traceback (most recent call last)",
      "Cell \u001b[0;32mIn[8], line 20\u001b[0m\n\u001b[1;32m     17\u001b[0m is_active: \u001b[38;5;28mbool\u001b[39m\n\u001b[1;32m     19\u001b[0m \u001b[38;5;28mprint\u001b[39m(\u001b[38;5;18m__annotations__\u001b[39m)\n\u001b[0;32m---> 20\u001b[0m \u001b[38;5;28mprint\u001b[39m(\u001b[43mnumbers\u001b[49m, person, value, data, info)\n",
      "\u001b[0;31mNameError\u001b[0m: name 'numbers' is not defined"
     ]
    }
   ],
   "source": [
    "# Variable using Type Hint as a list of integers\n",
    "numbers: list[int]\n",
    "\n",
    "# Variable using Type Hint as a tuple of string and integer\n",
    "person: tuple[str, int]\n",
    "\n",
    "# Variable using Type Hint as an int or float\n",
    "value: int | float\n",
    "\n",
    "# Variable using Type Hint as a list of string or a tuple of integers\n",
    "data = list[str] | tuple[int, int] \n",
    "\n",
    "# Variable using Type Hint as a tuple containing a list of int and a dictionary\n",
    "info: tuple[list[int], dict]\n",
    "\n",
    "# Variable using Type Hint as a boolean\n",
    "is_active: bool\n",
    "\n",
    "print(__annotations__)\n",
    "print(numbers, person, value, data, info)"
   ]
  },
  {
   "cell_type": "code",
   "execution_count": 9,
   "metadata": {},
   "outputs": [
    {
     "name": "stdout",
     "output_type": "stream",
     "text": [
      "3.5\n",
      "{'x': <class 'int'>, 'y': <class 'int'>, 'return': <class 'int'>}\n"
     ]
    }
   ],
   "source": [
    "def add(x: int, y: int) -> int:\n",
    "    return x + y\n",
    "\n",
    "print(add(x=1.5, y=2))\n",
    "print(add.__annotations__)"
   ]
  },
  {
   "cell_type": "code",
   "execution_count": 11,
   "metadata": {},
   "outputs": [
    {
     "name": "stdout",
     "output_type": "stream",
     "text": [
      "Hello, I'm Tom and I'm 25 years old.\n"
     ]
    }
   ],
   "source": [
    "class Person:\n",
    "    name: str\n",
    "    age: int\n",
    "\n",
    "    def __init__(self, name: str, age: int) -> None:\n",
    "        self.name = name\n",
    "        self.age = age\n",
    "\n",
    "    def greet(self) -> str:\n",
    "        return f'Hello, I\\'m {self.name} and I\\'m {self.age} years old.'\n",
    "\n",
    "person_1 = Person('Tom', 25)\n",
    "print(person_1.greet())"
   ]
  }
 ],
 "metadata": {
  "kernelspec": {
   "display_name": "aio2024_env",
   "language": "python",
   "name": "python3"
  },
  "language_info": {
   "codemirror_mode": {
    "name": "ipython",
    "version": 3
   },
   "file_extension": ".py",
   "mimetype": "text/x-python",
   "name": "python",
   "nbconvert_exporter": "python",
   "pygments_lexer": "ipython3",
   "version": "3.10.14"
  }
 },
 "nbformat": 4,
 "nbformat_minor": 2
}
