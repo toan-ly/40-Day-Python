{
 "cells": [
  {
   "cell_type": "code",
   "execution_count": 1,
   "metadata": {},
   "outputs": [
    {
     "name": "stdout",
     "output_type": "stream",
     "text": [
      "spring\n"
     ]
    }
   ],
   "source": [
    "space1 = 'It\"s sunny here!'\n",
    "space2 = 'Is it hot here in the spring?'\n",
    "space = space1 + space2\n",
    "print(space[-7:-1])"
   ]
  },
  {
   "cell_type": "code",
   "execution_count": 2,
   "metadata": {},
   "outputs": [
    {
     "ename": "TypeError",
     "evalue": "'<' not supported between instances of 'str' and 'int'",
     "output_type": "error",
     "traceback": [
      "\u001b[0;31m---------------------------------------------------------------------------\u001b[0m",
      "\u001b[0;31mTypeError\u001b[0m                                 Traceback (most recent call last)",
      "Cell \u001b[0;32mIn[2], line 2\u001b[0m\n\u001b[1;32m      1\u001b[0m data \u001b[38;5;241m=\u001b[39m [\u001b[38;5;241m1\u001b[39m, \u001b[38;5;241m2\u001b[39m, \u001b[38;5;241m3\u001b[39m, \u001b[38;5;124m'\u001b[39m\u001b[38;5;124mI\u001b[39m\u001b[38;5;124m'\u001b[39m, \u001b[38;5;124m'\u001b[39m\u001b[38;5;124mam\u001b[39m\u001b[38;5;124m'\u001b[39m, \u001b[38;5;124m'\u001b[39m\u001b[38;5;124mAI\u001b[39m\u001b[38;5;124m'\u001b[39m]\n\u001b[0;32m----> 2\u001b[0m \u001b[38;5;28mprint\u001b[39m(\u001b[38;5;28;43msorted\u001b[39;49m\u001b[43m(\u001b[49m\u001b[43mdata\u001b[49m\u001b[43m)\u001b[49m)\n",
      "\u001b[0;31mTypeError\u001b[0m: '<' not supported between instances of 'str' and 'int'"
     ]
    }
   ],
   "source": [
    "data = [1, 2, 3, 'I', 'am', 'AI']\n",
    "print(sorted(data))"
   ]
  },
  {
   "cell_type": "code",
   "execution_count": 4,
   "metadata": {},
   "outputs": [
    {
     "name": "stdout",
     "output_type": "stream",
     "text": [
      "[{'friends': ['Tom', 'Mike', 'Taylor']}, 2002, 2099, 3000, 'moon']\n"
     ]
    }
   ],
   "source": [
    "def func(data):\n",
    "    res = []\n",
    "    for element in data:\n",
    "        if element not in res:\n",
    "            res.append(element)\n",
    "    return res\n",
    "data = [{'friends':['Tom', 'Mike', 'Taylor']}, 2002, 2099, 3000, 'moon']\n",
    "print(func(data))"
   ]
  },
  {
   "cell_type": "code",
   "execution_count": 6,
   "metadata": {},
   "outputs": [
    {
     "name": "stdout",
     "output_type": "stream",
     "text": [
      "5\n",
      " False \n"
     ]
    }
   ],
   "source": [
    "def check_the_number ( N ) :\n",
    "    list_of_numbers = []\n",
    "    result = \"\"\n",
    "    for i in range (1 , 10 , 3) :\n",
    "        list_of_numbers . append ( i )\n",
    "    if N in list_of_numbers :\n",
    "        results = \" True \"\n",
    "    if N not in list_of_numbers :\n",
    "        results = \" False \"\n",
    "    return results\n",
    "    \n",
    "N = 0\n",
    "N =+ 5\n",
    "print(N)\n",
    "results = check_the_number ( N )\n",
    "print ( results )"
   ]
  },
  {
   "cell_type": "code",
   "execution_count": 7,
   "metadata": {},
   "outputs": [
    {
     "data": {
      "text/plain": [
       "True"
      ]
     },
     "execution_count": 7,
     "metadata": {},
     "output_type": "execute_result"
    }
   ],
   "source": [
    "def my_function ( integers , number = -999) :\n",
    "    return any ([ True if i == number else False for i in integers ])\n",
    "my_list = [1 , 3 , 6 , 9. -100 , 19 , 2004 , 2023]\n",
    "my_function( my_list , 2004)"
   ]
  },
  {
   "cell_type": "code",
   "execution_count": 8,
   "metadata": {},
   "outputs": [
    {
     "name": "stdout",
     "output_type": "stream",
     "text": [
      "[1, 2, 3]\n"
     ]
    }
   ],
   "source": [
    "def func_helper(x, data):\n",
    "    for i in data:\n",
    "        if x == i:\n",
    "            return 0\n",
    "    return 1\n",
    "def a_func(data):\n",
    "    res = []\n",
    "    for i in data:\n",
    "        if func_helper(i, res):\n",
    "            res.append(i)\n",
    "    return res\n",
    "lst = [1, 1, 2, 2, 3]\n",
    "print(a_func(lst))"
   ]
  },
  {
   "cell_type": "code",
   "execution_count": 9,
   "metadata": {},
   "outputs": [
    {
     "name": "stdout",
     "output_type": "stream",
     "text": [
      "None\n"
     ]
    }
   ],
   "source": [
    "def my_function ( signal1 , signal2 ) :\n",
    "    var = False\n",
    "    for s1 in signal1 :\n",
    "        for s2 in signal2 :\n",
    "            if s1 == s2 :\n",
    "                var = True\n",
    "                return var\n",
    "print(my_function ([0 , 1 , 1 , 0] , [100 , 11 , 110]) )"
   ]
  }
 ],
 "metadata": {
  "kernelspec": {
   "display_name": "aio2024_env",
   "language": "python",
   "name": "python3"
  },
  "language_info": {
   "codemirror_mode": {
    "name": "ipython",
    "version": 3
   },
   "file_extension": ".py",
   "mimetype": "text/x-python",
   "name": "python",
   "nbconvert_exporter": "python",
   "pygments_lexer": "ipython3",
   "version": "3.10.14"
  }
 },
 "nbformat": 4,
 "nbformat_minor": 2
}
