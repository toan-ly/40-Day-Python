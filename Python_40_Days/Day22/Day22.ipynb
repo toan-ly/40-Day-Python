{
 "cells": [
  {
   "cell_type": "markdown",
   "metadata": {},
   "source": [
    "## While Loop\n",
    "### Question 1"
   ]
  },
  {
   "cell_type": "code",
   "execution_count": 28,
   "metadata": {},
   "outputs": [
    {
     "name": "stdout",
     "output_type": "stream",
     "text": [
      "266\n",
      "32\n",
      "96\n"
     ]
    }
   ],
   "source": [
    "import random\n",
    "\n",
    "def random_number_with_condition(total):\n",
    "    random.seed(0)\n",
    "    i = 1\n",
    "    while (random.randint(1, 20) + random.randint(1, 20)) != total:\n",
    "        i += 1\n",
    "    return i\n",
    "\n",
    "print(random_number_with_condition(40))\n",
    "print(random_number_with_condition(20))\n",
    "print(random_number_with_condition(35))"
   ]
  },
  {
   "cell_type": "markdown",
   "metadata": {},
   "source": [
    "### Question 2"
   ]
  },
  {
   "cell_type": "code",
   "execution_count": 29,
   "metadata": {},
   "outputs": [
    {
     "name": "stdout",
     "output_type": "stream",
     "text": [
      "105\n",
      "102\n"
     ]
    }
   ],
   "source": [
    "def find_divisible_number(a):\n",
    "    num = 100\n",
    "    while True:\n",
    "        num += 1\n",
    "        if num % a == 0:\n",
    "            return num\n",
    "\n",
    "print(find_divisible_number(5))        \n",
    "print(find_divisible_number(17))"
   ]
  },
  {
   "cell_type": "markdown",
   "metadata": {},
   "source": [
    "### Question 3"
   ]
  },
  {
   "cell_type": "code",
   "execution_count": 30,
   "metadata": {},
   "outputs": [
    {
     "name": "stdout",
     "output_type": "stream",
     "text": [
      "1.4142135623746899\n",
      "1.7320508100147276\n"
     ]
    }
   ],
   "source": [
    "def find_squared_root(a):\n",
    "    EPSILON = 0.001\n",
    "    x = a\n",
    "    while True:\n",
    "        x, prev_x = x - (x ** 2 - a) / (2 * x), x\n",
    "        if abs(x - prev_x) < EPSILON:\n",
    "            return x\n",
    "\n",
    "print(find_squared_root(2))\n",
    "print(find_squared_root(3))"
   ]
  }
 ],
 "metadata": {
  "kernelspec": {
   "display_name": "aio2024_env",
   "language": "python",
   "name": "python3"
  },
  "language_info": {
   "codemirror_mode": {
    "name": "ipython",
    "version": 3
   },
   "file_extension": ".py",
   "mimetype": "text/x-python",
   "name": "python",
   "nbconvert_exporter": "python",
   "pygments_lexer": "ipython3",
   "version": "3.10.14"
  }
 },
 "nbformat": 4,
 "nbformat_minor": 2
}
