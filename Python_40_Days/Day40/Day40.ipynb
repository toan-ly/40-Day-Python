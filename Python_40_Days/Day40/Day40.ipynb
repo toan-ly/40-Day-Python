{
 "cells": [
  {
   "cell_type": "markdown",
   "metadata": {},
   "source": [
    "## Stack and Concatenate"
   ]
  },
  {
   "cell_type": "code",
   "execution_count": 1,
   "metadata": {},
   "outputs": [
    {
     "name": "stderr",
     "output_type": "stream",
     "text": [
      "2024-04-20 21:59:23.512600: I tensorflow/core/platform/cpu_feature_guard.cc:210] This TensorFlow binary is optimized to use available CPU instructions in performance-critical operations.\n",
      "To enable the following instructions: AVX2 FMA, in other operations, rebuild TensorFlow with the appropriate compiler flags.\n"
     ]
    }
   ],
   "source": [
    "import numpy as np\n",
    "import torch\n",
    "import tensorflow as tf"
   ]
  },
  {
   "cell_type": "markdown",
   "metadata": {},
   "source": [
    "#### Question 1"
   ]
  },
  {
   "cell_type": "code",
   "execution_count": 3,
   "metadata": {},
   "outputs": [
    {
     "name": "stdout",
     "output_type": "stream",
     "text": [
      "Array 1:\n",
      " [1 2 3]\n",
      "\n",
      "Array 2:\n",
      " [4 5 6]\n",
      "\n",
      "Horizontally concatenated array:\n",
      " [1 2 3 4 5 6]\n",
      "\n",
      "Vertically concatenated array:\n",
      " [[1 2 3]\n",
      " [4 5 6]]\n"
     ]
    }
   ],
   "source": [
    "arr1 = np.array([1, 2, 3])\n",
    "arr2 = np.array([4, 5, 6])\n",
    "arr3 = np.hstack((arr1, arr2))\n",
    "arr4 = np.vstack((arr1, arr2))\n",
    "print('Array 1:\\n', arr1)\n",
    "print('\\nArray 2:\\n', arr2)\n",
    "print('\\nHorizontally concatenated array:\\n', arr3)\n",
    "print('\\nVertically concatenated array:\\n', arr4)"
   ]
  },
  {
   "cell_type": "code",
   "execution_count": 5,
   "metadata": {},
   "outputs": [
    {
     "name": "stdout",
     "output_type": "stream",
     "text": [
      "Array 1:\n",
      " tensor([1, 2, 3])\n",
      "\n",
      "Array 2:\n",
      " tensor([4, 5, 6])\n",
      "\n",
      "Horizontally concatenated array:\n",
      " tensor([1, 2, 3, 4, 5, 6])\n",
      "\n",
      "Vertically concatenated array:\n",
      " tensor([[1, 2, 3],\n",
      "        [4, 5, 6]])\n"
     ]
    }
   ],
   "source": [
    "arr1 = torch.tensor([1, 2,3 ])\n",
    "arr2 = torch.tensor([4, 5, 6])\n",
    "arr3 = torch.hstack((arr1, arr2))\n",
    "arr4 = torch.vstack((arr1, arr2))\n",
    "print('Array 1:\\n', arr1)\n",
    "print('\\nArray 2:\\n', arr2)\n",
    "print('\\nHorizontally concatenated array:\\n', arr3)\n",
    "print('\\nVertically concatenated array:\\n', arr4)"
   ]
  },
  {
   "cell_type": "markdown",
   "metadata": {},
   "source": [
    "#### Question 2"
   ]
  },
  {
   "cell_type": "code",
   "execution_count": 22,
   "metadata": {},
   "outputs": [
    {
     "name": "stdout",
     "output_type": "stream",
     "text": [
      "Array 1:\n",
      " [[1 2 3]\n",
      " [4 5 6]]\n",
      "\n",
      "Array 2:\n",
      " [[ 7  8  9]\n",
      " [10 11 12]]\n",
      "\n",
      "Vertically concatenated array (axis=0):\n",
      " [[ 1  2  3]\n",
      " [ 4  5  6]\n",
      " [ 7  8  9]\n",
      " [10 11 12]]\n",
      "\n",
      "Horizoncally concatenated array (axis=1):\n",
      " [[ 1  2  3  7  8  9]\n",
      " [ 4  5  6 10 11 12]]\n"
     ]
    }
   ],
   "source": [
    "arr1 = np.arange(1, 7).reshape(2, 3)\n",
    "arr2 = np.arange(7, 13).reshape(2, 3)\n",
    "arr3 = np.concatenate((arr1, arr2), axis=0)\n",
    "arr4 = np.concatenate((arr1, arr2), axis=1)\n",
    "print('Array 1:\\n', arr1)\n",
    "print('\\nArray 2:\\n', arr2)\n",
    "print('\\nVertically concatenated array (axis=0):\\n', arr3)\n",
    "print('\\nHorizontally concatenated array (axis=1):\\n', arr4)"
   ]
  },
  {
   "cell_type": "code",
   "execution_count": 20,
   "metadata": {},
   "outputs": [
    {
     "name": "stdout",
     "output_type": "stream",
     "text": [
      "Array 1:\n",
      " tensor([[1, 2, 3],\n",
      "        [4, 5, 6]])\n",
      "\n",
      "Array 2:\n",
      " tensor([[ 7,  8,  9],\n",
      "        [10, 11, 12]])\n",
      "\n",
      "Vertically concatenated array (axis=0):\n",
      " tensor([[ 1,  2,  3],\n",
      "        [ 4,  5,  6],\n",
      "        [ 7,  8,  9],\n",
      "        [10, 11, 12]])\n",
      "\n",
      "Horizoncally concatenated array (axis=1):\n",
      " tensor([[ 1,  2,  3,  7,  8,  9],\n",
      "        [ 4,  5,  6, 10, 11, 12]])\n"
     ]
    }
   ],
   "source": [
    "arr1 = torch.arange(1, 7).reshape(2, 3)\n",
    "arr2 = torch.arange(7, 13).reshape(2, 3)\n",
    "arr3 = torch.cat((arr1, arr2), dim=0)\n",
    "arr4 = torch.cat((arr1, arr2), dim=1)\n",
    "print('Array 1:\\n', arr1)\n",
    "print('\\nArray 2:\\n', arr2)\n",
    "print('\\nVertically concatenated array (axis=0):\\n', arr3)\n",
    "print('\\nHorizontally concatenated array (axis=1):\\n', arr4)"
   ]
  },
  {
   "cell_type": "code",
   "execution_count": 25,
   "metadata": {},
   "outputs": [
    {
     "name": "stdout",
     "output_type": "stream",
     "text": [
      "Array 1:\n",
      " tf.Tensor(\n",
      "[[1 2 3]\n",
      " [4 5 6]], shape=(2, 3), dtype=int32)\n",
      "\n",
      "Array 2:\n",
      " tf.Tensor(\n",
      "[[ 7  8  9]\n",
      " [10 11 12]], shape=(2, 3), dtype=int32)\n",
      "\n",
      "Vertically concatenated array (axis=0):\n",
      " tf.Tensor(\n",
      "[[ 1  2  3]\n",
      " [ 4  5  6]\n",
      " [ 7  8  9]\n",
      " [10 11 12]], shape=(4, 3), dtype=int32)\n",
      "\n",
      "Horizontally concatenated array (axis=1):\n",
      " tf.Tensor(\n",
      "[[ 1  2  3  7  8  9]\n",
      " [ 4  5  6 10 11 12]], shape=(2, 6), dtype=int32)\n"
     ]
    }
   ],
   "source": [
    "arr1 = tf.constant(tf.range(1, 7), shape=(2, 3))\n",
    "arr2 = tf.constant(tf.range(7, 13), shape=(2, 3))\n",
    "arr3 = tf.concat((arr1, arr2), axis=0)\n",
    "arr4 = tf.concat((arr1, arr2), axis=1)\n",
    "print('Array 1:\\n', arr1)\n",
    "print('\\nArray 2:\\n', arr2)\n",
    "print('\\nVertically concatenated array (axis=0):\\n', arr3)\n",
    "print('\\nHorizontally concatenated array (axis=1):\\n', arr4)"
   ]
  },
  {
   "cell_type": "markdown",
   "metadata": {},
   "source": [
    "## newaxis, expand_dims"
   ]
  },
  {
   "cell_type": "code",
   "execution_count": 30,
   "metadata": {},
   "outputs": [
    {
     "name": "stdout",
     "output_type": "stream",
     "text": [
      "torch.Size([4])\n",
      "torch.Size([1, 4])\n",
      "torch.Size([1, 1, 4, 1, 1])\n"
     ]
    }
   ],
   "source": [
    "arr = torch.tensor([2, 3, 5, 7])\n",
    "arr1 = arr[None, ...] \n",
    "arr2 = arr1[:, None, :, None, None]\n",
    "print(arr.shape)\n",
    "print(arr1.shape)\n",
    "print(arr2.shape)"
   ]
  },
  {
   "cell_type": "code",
   "execution_count": 40,
   "metadata": {},
   "outputs": [
    {
     "name": "stdout",
     "output_type": "stream",
     "text": [
      "tensor([[[ 1,  2,  3],\n",
      "         [ 4,  5,  6]],\n",
      "\n",
      "        [[ 7,  8,  9],\n",
      "         [10, 11, 12]],\n",
      "\n",
      "        [[13, 14, 15],\n",
      "         [16, 17, 18]]])\n",
      "torch.Size([3, 2, 3])\n",
      "\n",
      "After reshape:\n",
      "tensor([[ 1,  2,  3,  4,  5,  6],\n",
      "        [ 7,  8,  9, 10, 11, 12],\n",
      "        [13, 14, 15, 16, 17, 18]])\n",
      "torch.Size([3, 6])\n"
     ]
    }
   ],
   "source": [
    "arr = torch.arange(1, 19).reshape(3, 2, 3)\n",
    "arr2 = arr.reshape(3, 6)\n",
    "print(arr)\n",
    "print(arr.shape)\n",
    "print('\\nAfter reshape:')\n",
    "print(arr2)\n",
    "print(arr2.shape)"
   ]
  },
  {
   "cell_type": "markdown",
   "metadata": {},
   "source": [
    "## Clip"
   ]
  },
  {
   "cell_type": "code",
   "execution_count": 44,
   "metadata": {},
   "outputs": [
    {
     "name": "stdout",
     "output_type": "stream",
     "text": [
      "[[ -2 -10 -10]\n",
      " [ -6  -1  -9]\n",
      " [ -7   0  -8]]\n",
      "\n",
      "After clipping in [3, 8]: [[3 3 3]\n",
      " [3 3 3]\n",
      " [3 3 3]]\n"
     ]
    }
   ],
   "source": [
    "np.random.seed(2024)\n",
    "arr = np.random.randint(-10, 10, (3, 3))\n",
    "print(arr)\n",
    "\n",
    "arr_clip = np.clip(arr, a_min=3, a_max=8)\n",
    "print('\\nAfter clipping in [3, 8]:', arr_clip)"
   ]
  },
  {
   "cell_type": "code",
   "execution_count": 47,
   "metadata": {},
   "outputs": [
    {
     "name": "stdout",
     "output_type": "stream",
     "text": [
      "tensor([[  2,   0,  -6, -10],\n",
      "        [ -7, -10,   0,   1],\n",
      "        [  3,   9,   7,  -6]])\n",
      "\n",
      "After clipping in [3, 8]:\n",
      " tensor([[3, 3, 3, 3],\n",
      "        [3, 3, 3, 3],\n",
      "        [3, 8, 7, 3]])\n"
     ]
    }
   ],
   "source": [
    "torch.manual_seed(2024)\n",
    "arr = torch.randint(-10, 10, size=(3, 4))\n",
    "print(arr)\n",
    "\n",
    "arr_clip = torch.clip(arr, min=3, max=8)\n",
    "print('\\nAfter clipping in [3, 8]:\\n', arr_clip)"
   ]
  },
  {
   "cell_type": "code",
   "execution_count": 51,
   "metadata": {},
   "outputs": [
    {
     "name": "stdout",
     "output_type": "stream",
     "text": [
      "tf.Tensor(\n",
      "[[-6 -2  0 -2]\n",
      " [ 4  4 -9  3]\n",
      " [ 7  1  2 -5]], shape=(3, 4), dtype=int32)\n",
      "\n",
      "After clipping in [3, 8]:\n",
      " tf.Tensor(\n",
      "[[3 3 3 3]\n",
      " [4 4 3 3]\n",
      " [7 3 3 3]], shape=(3, 4), dtype=int32)\n"
     ]
    }
   ],
   "source": [
    "tf.random.set_seed(2024)\n",
    "arr = tf.random.uniform((3, 4), minval=-10, maxval=10, dtype=tf.int32)\n",
    "print(arr)\n",
    "\n",
    "arr_clip = tf.clip_by_value(arr, clip_value_min=3, clip_value_max=8)\n",
    "print('\\nAfter clipping in [3, 8]:\\n', arr_clip)"
   ]
  },
  {
   "cell_type": "code",
   "execution_count": 52,
   "metadata": {},
   "outputs": [
    {
     "name": "stdout",
     "output_type": "stream",
     "text": [
      "tensor([[ 4,  6,  6],\n",
      "        [ 9,  7,  6],\n",
      "        [ 0,  8,  1],\n",
      "        [-3, -3,  6]])\n",
      "\n",
      "After clipping in [-2, 0]:\n",
      " tensor([[ 0,  0,  0],\n",
      "        [ 0,  0,  0],\n",
      "        [ 0,  0,  0],\n",
      "        [-2, -2,  0]])\n"
     ]
    }
   ],
   "source": [
    "arr = torch.randint(-5, 10, size=(4, 3))\n",
    "arr_clip = torch.clip(arr, min=-2, max=0)\n",
    "print(arr)\n",
    "print('\\nAfter clipping in [-2, 0]:\\n', arr_clip)"
   ]
  },
  {
   "cell_type": "markdown",
   "metadata": {},
   "source": [
    "## Indexing"
   ]
  },
  {
   "cell_type": "code",
   "execution_count": 55,
   "metadata": {},
   "outputs": [
    {
     "data": {
      "text/plain": [
       "torch.Size([3, 2, 3])"
      ]
     },
     "execution_count": 55,
     "metadata": {},
     "output_type": "execute_result"
    }
   ],
   "source": [
    "arr = torch.arange(1, 19).reshape(3, 2, 3)\n",
    "arr.shape"
   ]
  },
  {
   "cell_type": "code",
   "execution_count": 58,
   "metadata": {},
   "outputs": [
    {
     "data": {
      "text/plain": [
       "tensor([[[1]]])"
      ]
     },
     "execution_count": 58,
     "metadata": {},
     "output_type": "execute_result"
    }
   ],
   "source": [
    "arr[0:1, 0:1, 0:1]"
   ]
  },
  {
   "cell_type": "code",
   "execution_count": 59,
   "metadata": {},
   "outputs": [
    {
     "data": {
      "text/plain": [
       "tensor([[1]])"
      ]
     },
     "execution_count": 59,
     "metadata": {},
     "output_type": "execute_result"
    }
   ],
   "source": [
    "arr[0, 0:1, 0:1]"
   ]
  },
  {
   "cell_type": "code",
   "execution_count": 62,
   "metadata": {},
   "outputs": [
    {
     "name": "stdout",
     "output_type": "stream",
     "text": [
      "tensor([[1, 0, 1],\n",
      "        [0, 1, 0],\n",
      "        [1, 0, 1]])\n",
      "\n",
      "Row 2 without reducing dimension:\n",
      " tensor([[0, 1, 0]])\n",
      "\n",
      "Row 2 with reducing dimension:\n",
      " tensor([0, 1, 0])\n",
      "\n",
      "Col 1 without reducing dimension:\n",
      " tensor([[1],\n",
      "        [0],\n",
      "        [1]])\n",
      "\n",
      "Col 1 with reducing dimension:\n",
      " tensor([1, 0, 1])\n"
     ]
    }
   ],
   "source": [
    "arr = [[1, 0, 1],\n",
    "        [0, 1, 0],\n",
    "        [1, 0, 1]]\n",
    "\n",
    "torch_arr = torch.tensor(arr)\n",
    "print(torch_arr)\n",
    "print('\\nRow 2 without reducing dimension:\\n', torch_arr[1:2, :])\n",
    "print('\\nRow 2 with reducing dimension:\\n', torch_arr[1, :])\n",
    "print('\\nCol 1 without reducing dimension:\\n', torch_arr[:, 0:1])\n",
    "print('\\nCol 1 with reducing dimension:\\n', torch_arr[:, 0])"
   ]
  },
  {
   "cell_type": "code",
   "execution_count": 63,
   "metadata": {},
   "outputs": [
    {
     "name": "stdout",
     "output_type": "stream",
     "text": [
      "tensor([[ 2,  0,  1],\n",
      "        [-5,  8, -3],\n",
      "        [-8, -3, -1]])\n",
      "\n",
      "After filtered:\n",
      " tensor([2, 1, 8])\n"
     ]
    }
   ],
   "source": [
    "arr = torch.randint(-10, 10, size=(3, 3))\n",
    "filtered_arr = arr[arr > 0]\n",
    "print(arr)\n",
    "print('\\nAfter filtered:\\n', filtered_arr)"
   ]
  },
  {
   "cell_type": "markdown",
   "metadata": {},
   "source": [
    "## Matrix operations "
   ]
  },
  {
   "cell_type": "code",
   "execution_count": 66,
   "metadata": {},
   "outputs": [
    {
     "name": "stdout",
     "output_type": "stream",
     "text": [
      "tensor([[  2,   0,  -6],\n",
      "        [-10,  -7, -10],\n",
      "        [  0,   1,   3]])\n",
      "tensor([[  9,   7,  -6],\n",
      "        [  1,   8,   0],\n",
      "        [ -2,  -9, -10]])\n",
      "\n",
      "Matrix multiplication result:\n",
      " tensor([[ 30,  68,  48],\n",
      "        [-77, -36, 160],\n",
      "        [ -5, -19, -30]])\n"
     ]
    }
   ],
   "source": [
    "torch.manual_seed(2024)\n",
    "arr1 = torch.randint(-10, 10, size=(3, 3))\n",
    "arr2 = torch.randint(-10, 10, size=(3, 3))\n",
    "res = torch.matmul(arr1, arr2)\n",
    "print(arr1)\n",
    "print(arr2)\n",
    "print('\\nMatrix multiplication result:\\n', res)"
   ]
  },
  {
   "cell_type": "code",
   "execution_count": null,
   "metadata": {},
   "outputs": [],
   "source": []
  }
 ],
 "metadata": {
  "kernelspec": {
   "display_name": "aio2024_env",
   "language": "python",
   "name": "python3"
  },
  "language_info": {
   "codemirror_mode": {
    "name": "ipython",
    "version": 3
   },
   "file_extension": ".py",
   "mimetype": "text/x-python",
   "name": "python",
   "nbconvert_exporter": "python",
   "pygments_lexer": "ipython3",
   "version": "3.10.14"
  }
 },
 "nbformat": 4,
 "nbformat_minor": 2
}
