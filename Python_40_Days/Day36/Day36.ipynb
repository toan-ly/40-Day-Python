{
 "cells": [
  {
   "cell_type": "code",
   "execution_count": 21,
   "metadata": {},
   "outputs": [],
   "source": [
    "import sqlite3\n",
    "import pandas as pd\n",
    "\n",
    "def execute_query(query, table_name='STOCK'):\n",
    "    with sqlite3.connect('database.sqlite') as connection:\n",
    "        cursor = connection.cursor()\n",
    "        cursor.execute(query)\n",
    "        connection.commit()\n",
    "        data = pd.read_sql_query(f'SELECT * FROM {table_name}', connection)\n",
    "    print(data)"
   ]
  },
  {
   "cell_type": "code",
   "execution_count": 22,
   "metadata": {},
   "outputs": [
    {
     "name": "stdout",
     "output_type": "stream",
     "text": [
      "Empty DataFrame\n",
      "Columns: [ID, NAME, BUY, INVESTOR]\n",
      "Index: []\n"
     ]
    }
   ],
   "source": [
    "query = '''\n",
    "CREATE TABLE stock (\n",
    "    ID INTEGER PRIMARY KEY,\n",
    "    NAME TEXT NOT NULL,\n",
    "    BUY INTEGER NOT NULL,\n",
    "    INVESTOR TEXT NOT NULL\n",
    ");\n",
    "'''\n",
    "execute_query(query)"
   ]
  },
  {
   "cell_type": "code",
   "execution_count": 23,
   "metadata": {},
   "outputs": [
    {
     "name": "stdout",
     "output_type": "stream",
     "text": [
      "   ID NAME    BUY INVESTOR\n",
      "0   1  ACB  29.45   Nguyen\n",
      "1   2  VIC  44.55   Nguyen\n",
      "2   3  GMD  74.30   Nguyen\n",
      "3   4  ACB  28.45     Vinh\n",
      "4   5  VIC  40.55     Vinh\n",
      "5   6  GMD  60.30     Vinh\n"
     ]
    }
   ],
   "source": [
    "query = '''\n",
    "INSERT INTO STOCK(ID, NAME, BUY, INVESTOR)\n",
    "VALUES\n",
    "    (1, 'ACB', 29.45, 'Nguyen'),\n",
    "    (2, 'VIC', 44.55, 'Nguyen'),\n",
    "    (3, 'GMD', 74.30, 'Nguyen'),\n",
    "    (4, 'ACB', 28.45, 'Vinh'),\n",
    "    (5, 'VIC', 40.55, 'Vinh'),\n",
    "    (6, 'GMD', 60.30, 'Vinh')\n",
    "'''\n",
    "execute_query(query)"
   ]
  },
  {
   "cell_type": "code",
   "execution_count": 24,
   "metadata": {},
   "outputs": [
    {
     "name": "stdout",
     "output_type": "stream",
     "text": [
      "   total_sale\n",
      "0       277.6\n"
     ]
    }
   ],
   "source": [
    "query = '''\n",
    "SELECT SUM(buy) AS total_sale\n",
    "FROM STOCK\n",
    "'''\n",
    "with sqlite3.connect('database.sqlite') as connection:\n",
    "    print(pd.read_sql_query(query, connection))"
   ]
  },
  {
   "cell_type": "code",
   "execution_count": 25,
   "metadata": {},
   "outputs": [
    {
     "name": "stdout",
     "output_type": "stream",
     "text": [
      "  INVESTOR NAME  MAX_PRICE\n",
      "0   Nguyen  GMD       74.3\n",
      "1     Vinh  GMD       60.3\n"
     ]
    }
   ],
   "source": [
    "query = '''\n",
    "SELECT INVESTOR, NAME, MAX(buy) as MAX_PRICE\n",
    "FROM STOCK\n",
    "GROUP BY INVESTOR\n",
    "'''\n",
    "with sqlite3.connect('database.sqlite') as connection:\n",
    "    print(pd.read_sql_query(query, connection))"
   ]
  }
 ],
 "metadata": {
  "kernelspec": {
   "display_name": "aio2024_env",
   "language": "python",
   "name": "python3"
  },
  "language_info": {
   "codemirror_mode": {
    "name": "ipython",
    "version": 3
   },
   "file_extension": ".py",
   "mimetype": "text/x-python",
   "name": "python",
   "nbconvert_exporter": "python",
   "pygments_lexer": "ipython3",
   "version": "3.10.14"
  }
 },
 "nbformat": 4,
 "nbformat_minor": 2
}
