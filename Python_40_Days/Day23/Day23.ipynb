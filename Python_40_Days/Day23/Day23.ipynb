{
 "cells": [
  {
   "cell_type": "code",
   "execution_count": 10,
   "metadata": {},
   "outputs": [
    {
     "name": "stdout",
     "output_type": "stream",
     "text": [
      "[0 1 2 3 4 5 6 7 8 9]\n",
      "tensor([0, 1, 2, 3, 4, 5, 6, 7, 8, 9])\n",
      "tf.Tensor([0 1 2 3 4 5 6 7 8 9], shape=(10,), dtype=int32)\n"
     ]
    }
   ],
   "source": [
    "# Question 1\n",
    "import numpy as np\n",
    "import torch\n",
    "import tensorflow as tf\n",
    "\n",
    "arr_np = np.arange(10)\n",
    "arr_torch = torch.arange(10)\n",
    "arr_tf = tf.range(10)\n",
    "\n",
    "print(arr_np)\n",
    "print(arr_torch)\n",
    "print(arr_tf)"
   ]
  },
  {
   "cell_type": "code",
   "execution_count": 11,
   "metadata": {},
   "outputs": [
    {
     "name": "stdout",
     "output_type": "stream",
     "text": [
      "[[1. 0. 0.]\n",
      " [0. 1. 0.]\n",
      " [0. 0. 1.]]\n",
      "tensor([[1., 0., 0.],\n",
      "        [0., 1., 0.],\n",
      "        [0., 0., 1.]])\n",
      "tf.Tensor(\n",
      "[[1. 0. 0.]\n",
      " [0. 1. 0.]\n",
      " [0. 0. 1.]], shape=(3, 3), dtype=float32)\n"
     ]
    }
   ],
   "source": [
    "# Question 2\n",
    "eye_np = np.eye(3)\n",
    "eye_torch = torch.eye(3)\n",
    "eye_tf = tf.eye(3)\n",
    "\n",
    "print(eye_np)\n",
    "print(eye_torch)\n",
    "print(eye_tf)"
   ]
  },
  {
   "cell_type": "code",
   "execution_count": 12,
   "metadata": {},
   "outputs": [
    {
     "name": "stdout",
     "output_type": "stream",
     "text": [
      "Random 3x4 numpy array in [0, 1):\n",
      " [[0.58801452 0.69910875 0.18815196 0.04380856]\n",
      " [0.20501895 0.10606287 0.72724014 0.67940052]\n",
      " [0.4738457  0.44829582 0.01910695 0.75259834]]\n",
      "\n",
      "Random 3x4 numpy int array in [-10, 10]:\n",
      " [[ 5  1 -3  8]\n",
      " [-1 -4  0 -9]\n",
      " [-5  9 -6 -2]]\n"
     ]
    }
   ],
   "source": [
    "# Question 3\n",
    "np.random.seed(2024)\n",
    "\n",
    "rand_np = np.random.rand(3, 4)\n",
    "randint_np = np.random.randint(-10, 10, size=(3, 4))\n",
    "print('Random 3x4 numpy array in [0, 1):\\n', rand_np)\n",
    "print('\\nRandom 3x4 numpy int array in [-10, 10]:\\n', randint_np)"
   ]
  },
  {
   "cell_type": "code",
   "execution_count": 13,
   "metadata": {},
   "outputs": [
    {
     "name": "stdout",
     "output_type": "stream",
     "text": [
      "Random 3x4 torch tensor in [0, 1)]:\n",
      " tensor([[0.5317, 0.8313, 0.9718, 0.1193],\n",
      "        [0.1669, 0.3495, 0.2150, 0.6201],\n",
      "        [0.4849, 0.7492, 0.1521, 0.5625]])\n",
      "\n",
      "Random 3x4 int torch tensor in [-10, 10]:\n",
      " tensor([[  1,   8,   0,  -2],\n",
      "        [ -9, -10,  -9,   0],\n",
      "        [ -3,  -7,  -4,   8]])\n"
     ]
    }
   ],
   "source": [
    "torch.manual_seed(2024)\n",
    "\n",
    "rand_torch = torch.rand((3, 4))\n",
    "randint_torch = torch.randint(-10, 10, (3, 4))\n",
    "print('Random 3x4 torch tensor in [0, 1)]:\\n', rand_torch)\n",
    "print('\\nRandom 3x4 int torch tensor in [-10, 10]:\\n', randint_torch)"
   ]
  },
  {
   "cell_type": "code",
   "execution_count": 14,
   "metadata": {},
   "outputs": [
    {
     "name": "stdout",
     "output_type": "stream",
     "text": [
      "Random 3x4 tf tensor in [0, 1]:\n",
      " tf.Tensor(\n",
      "[[0.90034294 0.19453335 0.36069036 0.66361904]\n",
      " [0.76605344 0.2159369  0.6261736  0.07380784]\n",
      " [0.22062695 0.934368   0.93327904 0.69267046]], shape=(3, 4), dtype=float32)\n",
      "Random 3x4 int tf tensor in [-10, 10]:\n",
      " tf.Tensor(\n",
      "[[-3 -7  9  3]\n",
      " [ 2 -5 -3 -5]\n",
      " [ 4 -3 -3  5]], shape=(3, 4), dtype=int32)\n"
     ]
    }
   ],
   "source": [
    "tf.random.set_seed(2024)\n",
    "\n",
    "rand_tf = tf.random.uniform((3, 4))\n",
    "randint_tf = tf.random.uniform((3, 4), -10, 10, dtype=tf.dtypes.int32)\n",
    "print('Random 3x4 tf tensor in [0, 1]:\\n', rand_tf)\n",
    "print('Random 3x4 int tf tensor in [-10, 10]:\\n', randint_tf)"
   ]
  }
 ],
 "metadata": {
  "kernelspec": {
   "display_name": "aio2024_env",
   "language": "python",
   "name": "python3"
  },
  "language_info": {
   "codemirror_mode": {
    "name": "ipython",
    "version": 3
   },
   "file_extension": ".py",
   "mimetype": "text/x-python",
   "name": "python",
   "nbconvert_exporter": "python",
   "pygments_lexer": "ipython3",
   "version": "3.10.14"
  }
 },
 "nbformat": 4,
 "nbformat_minor": 2
}
