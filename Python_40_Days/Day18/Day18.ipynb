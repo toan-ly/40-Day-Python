{
  "cells": [
    {
      "cell_type": "markdown",
      "metadata": {},
      "source": [
        "## List Comprehension"
      ]
    },
    {
      "cell_type": "code",
      "execution_count": 15,
      "metadata": {},
      "outputs": [
        {
          "name": "stdout",
          "output_type": "stream",
          "text": [
            "['AI', 'listen', 'music']\n"
          ]
        }
      ],
      "source": [
        "stop_words = ['I', 'love', 'and', 'to']\n",
        "input_sentence = 'I love AI and listen to music'\n",
        "\n",
        "res = [word for word in input_sentence.split() if word not in stop_words]\n",
        "print(res)"
      ]
    },
    {
      "cell_type": "markdown",
      "metadata": {},
      "source": [
        "## List Tuple"
      ]
    },
    {
      "cell_type": "markdown",
      "metadata": {},
      "source": [
        "### Question 1"
      ]
    },
    {
      "cell_type": "code",
      "execution_count": 16,
      "metadata": {},
      "outputs": [],
      "source": [
        "my_tuple1 = (2, 3)\n",
        "my_tuple2 = (3, 6)"
      ]
    },
    {
      "cell_type": "markdown",
      "metadata": {},
      "source": [
        "### Question 2"
      ]
    },
    {
      "cell_type": "code",
      "execution_count": 17,
      "metadata": {},
      "outputs": [
        {
          "name": "stdout",
          "output_type": "stream",
          "text": [
            "Result_vector1 = (5, 6), Result_vector2 = (9, 18)\n"
          ]
        }
      ],
      "source": [
        "result_vector1 = (my_tuple1[0] + my_tuple1[1], my_tuple1[0] * my_tuple1[1])\n",
        "result_vector2 = (my_tuple2[0] + my_tuple2[1], my_tuple2[0] * my_tuple2[1])\n",
        "print(f'Result_vector1 = {result_vector1}, Result_vector2 = {result_vector2}')"
      ]
    },
    {
      "cell_type": "markdown",
      "metadata": {},
      "source": [
        "### Question 3"
      ]
    },
    {
      "cell_type": "code",
      "execution_count": 18,
      "metadata": {},
      "outputs": [
        {
          "data": {
            "text/plain": [
              "3.1622776601683795"
            ]
          },
          "execution_count": 18,
          "metadata": {},
          "output_type": "execute_result"
        }
      ],
      "source": [
        "dist = sum((p - q) ** 2 for p, q in zip(my_tuple1, my_tuple2)) ** 0.5\n",
        "dist"
      ]
    },
    {
      "cell_type": "markdown",
      "metadata": {},
      "source": [
        "### Question 4"
      ]
    },
    {
      "cell_type": "code",
      "execution_count": 19,
      "metadata": {},
      "outputs": [
        {
          "name": "stdout",
          "output_type": "stream",
          "text": [
            "(1, 0)\n"
          ]
        }
      ],
      "source": [
        "print((my_tuple1.index(3), my_tuple2.index(3)))"
      ]
    }
  ],
  "metadata": {
    "anaconda-cloud": {},
    "kernelspec": {
      "display_name": "Python 3",
      "language": "python",
      "name": "python3"
    },
    "language_info": {
      "codemirror_mode": {
        "name": "ipython",
        "version": 3
      },
      "file_extension": ".py",
      "mimetype": "text/x-python",
      "name": "python",
      "nbconvert_exporter": "python",
      "pygments_lexer": "ipython3",
      "version": "3.10.14"
    }
  },
  "nbformat": 4,
  "nbformat_minor": 4
}
