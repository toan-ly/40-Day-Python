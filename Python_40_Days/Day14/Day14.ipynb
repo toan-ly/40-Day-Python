{
  "cells": [
    {
      "cell_type": "code",
      "execution_count": 43,
      "metadata": {},
      "outputs": [],
      "source": [
        "import numpy as np\n",
        "import torch\n",
        "import tensorflow as tf"
      ]
    },
    {
      "cell_type": "markdown",
      "metadata": {},
      "source": [
        "## Question 1 "
      ]
    },
    {
      "cell_type": "code",
      "execution_count": 44,
      "metadata": {},
      "outputs": [],
      "source": [
        "np.random.seed(2024)\n",
        "torch.manual_seed(2024)\n",
        "tf.random.set_seed(2024)\n",
        "\n",
        "sz = (3, 4)"
      ]
    },
    {
      "cell_type": "code",
      "execution_count": 45,
      "metadata": {},
      "outputs": [
        {
          "name": "stdout",
          "output_type": "stream",
          "text": [
            "First numpy array:\n",
            "[[ -2 -10 -10  -6]\n",
            " [ -1  -9  -7   0]\n",
            " [ -8 -10  -5   7]]\n",
            "Second numpy array:\n",
            "[[ 5  0  4  5]\n",
            " [ 1 -3  8 -1]\n",
            " [-4  0 -9 -5]]\n",
            "Transposed second numpy array:\n",
            "[[ 5  1 -4]\n",
            " [ 0 -3  0]\n",
            " [ 4  8 -9]\n",
            " [ 5 -1 -5]]\n",
            "Matrix multiplication:\n",
            "[[-80 -46 128]\n",
            " [-33 -30  67]\n",
            " [-25 -25  42]]\n"
          ]
        }
      ],
      "source": [
        "np_arr1 = np.random.randint(-10, 10, size=sz)\n",
        "np_arr2 = np.random.randint(-10, 10, size=sz)\n",
        "np_transpose = np_arr2.T\n",
        "\n",
        "res = np.dot(np_arr1, np_transpose)\n",
        "# res = np.arr1 @ np_transpose\n",
        "\n",
        "print(f'First numpy array:\\n{np_arr1}')\n",
        "print(f'Second numpy array:\\n{np_arr2}')\n",
        "print(f'Transposed second numpy array:\\n{np_transpose}')\n",
        "print(f'Matrix multiplication:\\n{res}')"
      ]
    },
    {
      "cell_type": "code",
      "execution_count": 46,
      "metadata": {},
      "outputs": [
        {
          "name": "stdout",
          "output_type": "stream",
          "text": [
            "First torch tensor:\n",
            "tensor([[  2,   0,  -6, -10],\n",
            "        [ -7, -10,   0,   1],\n",
            "        [  3,   9,   7,  -6]])\n",
            "Second torch tensor:\n",
            "tensor([[  1,   8,   0,  -2],\n",
            "        [ -9, -10,  -9,   0],\n",
            "        [ -3,  -7,  -4,   8]])\n",
            "Transposed second torch tensor:\n",
            "tensor([[  1,  -9,  -3],\n",
            "        [  8, -10,  -7],\n",
            "        [  0,  -9,  -4],\n",
            "        [ -2,   0,   8]])\n",
            "Matrix multiplication:\n",
            "tensor([[  22,   36,  -62],\n",
            "        [ -89,  163,   99],\n",
            "        [  87, -180, -148]])\n"
          ]
        }
      ],
      "source": [
        "torch_tensor1 = torch.randint(-10, 10, size=sz)\n",
        "torch_tensor2 = torch.randint(-10, 10, size=sz)\n",
        "torch_transpose = torch_tensor2.T\n",
        "\n",
        "res = torch.matmul(torch_tensor1, torch_transpose)\n",
        "\n",
        "print(f'First torch tensor:\\n{torch_tensor1}')\n",
        "print(f'Second torch tensor:\\n{torch_tensor2}')\n",
        "print(f'Transposed second torch tensor:\\n{torch_transpose}')\n",
        "print(f'Matrix multiplication:\\n{res}')"
      ]
    },
    {
      "cell_type": "code",
      "execution_count": 47,
      "metadata": {},
      "outputs": [
        {
          "name": "stdout",
          "output_type": "stream",
          "text": [
            "First tf tensor:\n",
            "[[-6 -2  0 -2]\n",
            " [ 4  4 -9  3]\n",
            " [ 7  1  2 -5]]\n",
            "Second pytorch tensor:\n",
            "[[-3 -7  9  3]\n",
            " [ 2 -5 -3 -5]\n",
            " [ 4 -3 -3  5]]\n",
            "Transposed second pytorch tensor:\n",
            "[[-3  2  4]\n",
            " [-7 -5 -3]\n",
            " [ 9 -3 -3]\n",
            " [ 3 -5  5]]\n",
            "Matrix multiplication:\n",
            "[[  26    8  -28]\n",
            " [-112    0   46]\n",
            " [ -25   28   -6]]\n"
          ]
        }
      ],
      "source": [
        "tf_tensor1 = tf.random.uniform(shape=sz, minval=-10, maxval=10, dtype=tf.int32)\n",
        "tf_tensor2 = tf.random.uniform(shape=sz, minval=-10, maxval=10, dtype=tf.int32)\n",
        "tf_transpose = tf.transpose(tf_tensor2)\n",
        "\n",
        "res = tf.matmul(tf_tensor1, tf_transpose)\n",
        "\n",
        "print(f'First tf tensor:\\n{tf_tensor1}')\n",
        "print(f'Second pytorch tensor:\\n{tf_tensor2}')\n",
        "print(f'Transposed second pytorch tensor:\\n{tf_transpose}')\n",
        "print(f'Matrix multiplication:\\n{res}')\n"
      ]
    },
    {
      "cell_type": "markdown",
      "metadata": {},
      "source": [
        "## Question 2"
      ]
    },
    {
      "cell_type": "code",
      "execution_count": 48,
      "metadata": {},
      "outputs": [
        {
          "name": "stdout",
          "output_type": "stream",
          "text": [
            "Numpy array: \n",
            "[[ 9 -6 -2]\n",
            " [ 8 -9  0]\n",
            " [-3  6 -2]]\n",
            "Total sum: 1\n",
            "Sum of each column: [14 -9 -4]\n",
            "Sum of each row: [ 1 -1  1]\n"
          ]
        }
      ],
      "source": [
        "np_arr = np.random.randint(-10, 10, size=(3, 3))\n",
        "\n",
        "total_sum = np.sum(np_arr)\n",
        "col_sum = np.sum(np_arr, axis=0) # sum of each column\n",
        "row_sum = np.sum(np_arr, axis=1) # sum of each row\n",
        "\n",
        "print(f'Numpy array: \\n{np_arr}')\n",
        "print(f'Total sum: {total_sum}')\n",
        "print(f'Sum of each column: {col_sum}')\n",
        "print(f'Sum of each row: {row_sum}')"
      ]
    },
    {
      "cell_type": "code",
      "execution_count": 49,
      "metadata": {},
      "outputs": [
        {
          "name": "stdout",
          "output_type": "stream",
          "text": [
            "Torch tensor:\n",
            "tensor([[ 9,  1,  1],\n",
            "        [-6, -3,  1],\n",
            "        [ 0,  8,  1]])\n",
            "Total sum: 12\n",
            "Sum of each column: tensor([3, 6, 3])\n",
            "Sum of each row: tensor([11, -8,  9])\n"
          ]
        }
      ],
      "source": [
        "torch_tensor = torch.randint(-10, 10, size=(3, 3))\n",
        "\n",
        "total_sum = torch.sum(torch_tensor)\n",
        "col_sum = torch.sum(torch_tensor, axis=0)\n",
        "row_sum = torch.sum(torch_tensor, axis=1)\n",
        "\n",
        "print(f'Torch tensor:\\n{torch_tensor}')\n",
        "print(f'Total sum: {total_sum}')\n",
        "print(f'Sum of each column: {col_sum}')\n",
        "print(f'Sum of each row: {row_sum}')"
      ]
    },
    {
      "cell_type": "code",
      "execution_count": 51,
      "metadata": {},
      "outputs": [
        {
          "name": "stdout",
          "output_type": "stream",
          "text": [
            "Tf tensor:\n",
            "[[-4  5  5]\n",
            " [-9  7 -7]\n",
            " [-2 -4  1]]\n",
            "Total sum: -8\n",
            "Sum of each column: [-15   8  -1]\n",
            "Sum of each row: [ 6 -9 -5]\n"
          ]
        }
      ],
      "source": [
        "tf_tensor = tf.random.uniform(shape=(3, 3), minval=-10, maxval=10, dtype=tf.int32)\n",
        "\n",
        "total_sum = tf.reduce_sum(tf_tensor)\n",
        "col_sum = tf.reduce_sum(tf_tensor, axis=0)\n",
        "row_sum = tf.reduce_sum(tf_tensor, axis=1)\n",
        "\n",
        "print(f'Tf tensor:\\n{tf_tensor}')\n",
        "print(f'Total sum: {total_sum}')\n",
        "print(f'Sum of each column: {col_sum}')\n",
        "print(f'Sum of each row: {row_sum}')\n"
      ]
    }
  ],
  "metadata": {
    "anaconda-cloud": {},
    "kernelspec": {
      "display_name": "Python 3",
      "language": "python",
      "name": "python3"
    },
    "language_info": {
      "codemirror_mode": {
        "name": "ipython",
        "version": 3
      },
      "file_extension": ".py",
      "mimetype": "text/x-python",
      "name": "python",
      "nbconvert_exporter": "python",
      "pygments_lexer": "ipython3",
      "version": "3.10.14"
    }
  },
  "nbformat": 4,
  "nbformat_minor": 4
}
